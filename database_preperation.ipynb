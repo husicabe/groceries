{
 "cells": [
  {
   "cell_type": "markdown",
   "metadata": {},
   "source": [
    "# Importing and preparing Butter data"
   ]
  },
  {
   "cell_type": "markdown",
   "metadata": {},
   "source": [
    "## Libraries and settings"
   ]
  },
  {
   "cell_type": "code",
   "execution_count": 1,
   "metadata": {},
   "outputs": [
    {
     "name": "stdout",
     "output_type": "stream",
     "text": [
      "/workspaces/groceries\n"
     ]
    }
   ],
   "source": [
    "# Libraries\n",
    "import os\n",
    "import sqlite3\n",
    "import fnmatch\n",
    "import numpy as np\n",
    "import pandas as pd\n",
    "import matplotlib.pyplot as plt\n",
    "\n",
    "# Ignore warnings\n",
    "import warnings\n",
    "warnings.filterwarnings(\"ignore\")\n",
    "\n",
    "# Function to close a sqlite db-connection\n",
    "def check_conn(conn):\n",
    "     try:\n",
    "        conn.cursor()\n",
    "        return True\n",
    "     except Exception as ex:\n",
    "        return False\n",
    "\n",
    "# Get current working directory\n",
    "print(os.getcwd())"
   ]
  },
  {
   "cell_type": "markdown",
   "metadata": {},
   "source": [
    "## Create sqlite data base"
   ]
  },
  {
   "cell_type": "code",
   "execution_count": 2,
   "metadata": {},
   "outputs": [
    {
     "name": "stdout",
     "output_type": "stream",
     "text": [
      "groceries_database.db\n"
     ]
    }
   ],
   "source": [
    "# Create data base\n",
    "conn = sqlite3.connect('groceries_database.db') \n",
    "cursor = conn.cursor()\n",
    "\n",
    "# Show dbs in the directory\n",
    "flist = fnmatch.filter(os.listdir('.'), '*.db')\n",
    "for i in flist:\n",
    "    print(i)"
   ]
  },
  {
   "cell_type": "markdown",
   "metadata": {},
   "source": [
    "## Create SQL-table in the database"
   ]
  },
  {
   "cell_type": "code",
   "execution_count": 3,
   "metadata": {},
   "outputs": [],
   "source": [
    "import sqlite3\n",
    "\n",
    "# Verbindung zur Datenbank herstellen\n",
    "conn = sqlite3.connect('groceries_database.db')\n",
    "cursor = conn.cursor()\n",
    "\n",
    "# CREATE TABLE-Befehl mit IF NOT EXISTS\n",
    "cursor.execute('''CREATE TABLE IF NOT EXISTS eggs_table (\n",
    "                  eggsId VARCHAR(50),\n",
    "                  product_type VARCHAR(200),\n",
    "                  web_scraper_order DECIMAL(8, 2),\n",
    "                  web_scraper_start_url VARCHAR(500),\n",
    "                  productname_raw VARCHAR(200),\n",
    "                  price_raw DECIMAL(8, 2),\n",
    "                  piece INT,\n",
    "                  price_per DECIMAL(8, 3)\n",
    "                  )''')\n",
    "\n",
    "cursor.execute('''CREATE TABLE IF NOT EXISTS flour_table (\n",
    "                  flourId VARCHAR(50),\n",
    "                  product_type VARCHAR(200),\n",
    "                  web_scraper_order DECIMAL(8, 2),\n",
    "                  web_scraper_start_url VARCHAR(500),\n",
    "                  productname_raw VARCHAR(200),\n",
    "                  price_raw DECIMAL(8, 2),\n",
    "                  piece INT,\n",
    "                  price_per DECIMAL(8, 3)\n",
    "                  )''')\n",
    "\n",
    "cursor.execute('''CREATE TABLE IF NOT EXISTS butter_table (\n",
    "                  butterId VARCHAR(50),\n",
    "                  product_type VARCHAR(200),\n",
    "                  web_scraper_order DECIMAL(8, 2),\n",
    "                  web_scraper_start_url VARCHAR(500),\n",
    "                  productname_raw VARCHAR(200),\n",
    "                  price_raw DECIMAL(8, 2),\n",
    "                  piece INT,\n",
    "                  price_per DECIMAL(8, 3)\n",
    "                  )''')\n",
    "\n",
    "# Confirm changes to the table\n",
    "conn.commit()\n"
   ]
  },
  {
   "cell_type": "markdown",
   "metadata": {},
   "source": []
  },
  {
   "cell_type": "markdown",
   "metadata": {},
   "source": [
    "## Read data from file to data frame "
   ]
  },
  {
   "cell_type": "markdown",
   "metadata": {},
   "source": [
    "## Eggs"
   ]
  },
  {
   "cell_type": "code",
   "execution_count": null,
   "metadata": {},
   "outputs": [],
   "source": [
    "df = pd.read_csv('Butter_merge.csv', \n",
    "                  sep=',', \n",
    "                  encoding='utf-8')[['XXXX', 'XXXX', 'XXXX', 'XXXXX', 'XXXXX']]\n",
    "print(df.shape)\n",
    "df.head(5)"
   ]
  },
  {
   "cell_type": "code",
   "execution_count": null,
   "metadata": {},
   "outputs": [],
   "source": [
    "df.to_sql(name = 'eggs_table',\n",
    "          con = conn,\n",
    "          index = False,\n",
    "          if_exists = 'replace')"
   ]
  },
  {
   "cell_type": "markdown",
   "metadata": {},
   "source": [
    "## Write data to the SQL-table in data base (NOCH NICHT GETESTET)"
   ]
  }
 ],
 "metadata": {
  "kernelspec": {
   "display_name": "Python 3",
   "language": "python",
   "name": "python3"
  },
  "language_info": {
   "codemirror_mode": {
    "name": "ipython",
    "version": 3
   },
   "file_extension": ".py",
   "mimetype": "text/x-python",
   "name": "python",
   "nbconvert_exporter": "python",
   "pygments_lexer": "ipython3",
   "version": "3.10.8"
  }
 },
 "nbformat": 4,
 "nbformat_minor": 2
}
