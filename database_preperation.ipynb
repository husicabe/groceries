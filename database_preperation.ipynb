{
 "cells": [
  {
   "cell_type": "markdown",
   "metadata": {},
   "source": [
    "# Importing and preparing Butter data"
   ]
  },
  {
   "cell_type": "markdown",
   "metadata": {},
   "source": [
    "## Libraries and settings"
   ]
  },
  {
   "cell_type": "code",
   "execution_count": 25,
   "metadata": {},
   "outputs": [
    {
     "name": "stdout",
     "output_type": "stream",
     "text": [
      "/workspaces/groceries\n"
     ]
    }
   ],
   "source": [
    "# Libraries\n",
    "import os\n",
    "import sqlite3\n",
    "import fnmatch\n",
    "import numpy as np\n",
    "import pandas as pd\n",
    "import matplotlib.pyplot as plt\n",
    "\n",
    "# Ignore warnings\n",
    "import warnings\n",
    "warnings.filterwarnings(\"ignore\")\n",
    "\n",
    "# Function to close a sqlite db-connection\n",
    "def check_conn(conn):\n",
    "     try:\n",
    "        conn.cursor()\n",
    "        return True\n",
    "     except Exception as ex:\n",
    "        return False\n",
    "\n",
    "# Get current working directory\n",
    "print(os.getcwd())"
   ]
  },
  {
   "cell_type": "markdown",
   "metadata": {},
   "source": [
    "## Create sqlite data base"
   ]
  },
  {
   "cell_type": "code",
   "execution_count": 26,
   "metadata": {},
   "outputs": [
    {
     "name": "stdout",
     "output_type": "stream",
     "text": [
      "groceries_database.db\n"
     ]
    }
   ],
   "source": [
    "# Create data base\n",
    "conn = sqlite3.connect('groceries_database.db') \n",
    "cursor = conn.cursor()\n",
    "\n",
    "# Show dbs in the directory\n",
    "flist = fnmatch.filter(os.listdir('.'), '*.db')\n",
    "for i in flist:\n",
    "    print(i)"
   ]
  },
  {
   "cell_type": "markdown",
   "metadata": {},
   "source": [
    "## Create SQL-table in the database"
   ]
  },
  {
   "cell_type": "code",
   "execution_count": 27,
   "metadata": {},
   "outputs": [],
   "source": [
    "import sqlite3\n",
    "\n",
    "# Verbindung zur Datenbank herstellen\n",
    "conn = sqlite3.connect('groceries_database.db')\n",
    "cursor = conn.cursor()\n",
    "\n",
    "# CREATE TABLE-Befehl mit IF NOT EXISTS\n",
    "cursor.execute('''CREATE TABLE IF NOT EXISTS eggs_table (\n",
    "                  eggsId VARCHAR(50),\n",
    "                  product_type VARCHAR(200),\n",
    "                  web_scraper_order DECIMAL(8, 2),\n",
    "                  web_scraper_start_url VARCHAR(500),\n",
    "                  productname_raw VARCHAR(200),\n",
    "                  price_raw DECIMAL(8, 2),\n",
    "                  piece INT,\n",
    "                  Supermarkt VARCHAR(50),\n",
    "                  price_per DECIMAL(8, 3)\n",
    "                  )''')\n",
    "\n",
    "cursor.execute('''CREATE TABLE IF NOT EXISTS flour_table (\n",
    "                  flourId VARCHAR(50),\n",
    "                  product_type VARCHAR(200),\n",
    "                  web_scraper_order DECIMAL(8, 2),\n",
    "                  web_scraper_start_url VARCHAR(500),\n",
    "                  productname_raw VARCHAR(200),\n",
    "                  price_raw DECIMAL(8, 2),\n",
    "                  piece INT,\n",
    "                  Supermarkt VARCHAR(50),\n",
    "                  price_per DECIMAL(8, 3)\n",
    "                  )''')\n",
    "\n",
    "cursor.execute('''CREATE TABLE IF NOT EXISTS butter_table (\n",
    "                  butterId VARCHAR(50),\n",
    "                  product_type VARCHAR(200),\n",
    "                  web_scraper_order DECIMAL(8, 2),\n",
    "                  web_scraper_start_url VARCHAR(500),\n",
    "                  productname_raw VARCHAR(200),\n",
    "                  price_raw DECIMAL(8, 2),\n",
    "                  piece INT,\n",
    "                  Supermarkt VARCHAR(50),\n",
    "                  price_per DECIMAL(8, 3)\n",
    "                  )''')\n",
    "\n",
    "# Confirm changes to the table\n",
    "conn.commit()\n"
   ]
  },
  {
   "cell_type": "markdown",
   "metadata": {},
   "source": []
  },
  {
   "cell_type": "markdown",
   "metadata": {},
   "source": [
    "## Read data from file to data frame "
   ]
  },
  {
   "cell_type": "markdown",
   "metadata": {},
   "source": [
    "## Butter"
   ]
  },
  {
   "cell_type": "code",
   "execution_count": 28,
   "metadata": {},
   "outputs": [
    {
     "name": "stdout",
     "output_type": "stream",
     "text": [
      "(124, 8)\n"
     ]
    },
    {
     "data": {
      "text/html": [
       "<div>\n",
       "<style scoped>\n",
       "    .dataframe tbody tr th:only-of-type {\n",
       "        vertical-align: middle;\n",
       "    }\n",
       "\n",
       "    .dataframe tbody tr th {\n",
       "        vertical-align: top;\n",
       "    }\n",
       "\n",
       "    .dataframe thead th {\n",
       "        text-align: right;\n",
       "    }\n",
       "</style>\n",
       "<table border=\"1\" class=\"dataframe\">\n",
       "  <thead>\n",
       "    <tr style=\"text-align: right;\">\n",
       "      <th></th>\n",
       "      <th>product_type</th>\n",
       "      <th>web-scraper-order</th>\n",
       "      <th>web-scraper-start-url</th>\n",
       "      <th>productname_raw</th>\n",
       "      <th>price_raw</th>\n",
       "      <th>weight_raw</th>\n",
       "      <th>Supermarkt</th>\n",
       "      <th>price_per_100g</th>\n",
       "    </tr>\n",
       "  </thead>\n",
       "  <tbody>\n",
       "    <tr>\n",
       "      <th>0</th>\n",
       "      <td>butter</td>\n",
       "      <td>1698754764-1</td>\n",
       "      <td>https://www.aldi-now.ch/de/milchprodukte-&amp;-eie...</td>\n",
       "      <td>Die Butter</td>\n",
       "      <td>3.95</td>\n",
       "      <td>250</td>\n",
       "      <td>Aldi</td>\n",
       "      <td>1.58</td>\n",
       "    </tr>\n",
       "    <tr>\n",
       "      <th>1</th>\n",
       "      <td>butter</td>\n",
       "      <td>1698754764-2</td>\n",
       "      <td>https://www.aldi-now.ch/de/milchprodukte-&amp;-eie...</td>\n",
       "      <td>RETOUR AUX SOURCES BIO Butter</td>\n",
       "      <td>4.19</td>\n",
       "      <td>200</td>\n",
       "      <td>Aldi</td>\n",
       "      <td>2.10</td>\n",
       "    </tr>\n",
       "    <tr>\n",
       "      <th>2</th>\n",
       "      <td>butter</td>\n",
       "      <td>1698754764-3</td>\n",
       "      <td>https://www.aldi-now.ch/de/milchprodukte-&amp;-eie...</td>\n",
       "      <td>BIO NATURA Butter 100 g, laktosefrei</td>\n",
       "      <td>2.95</td>\n",
       "      <td>100</td>\n",
       "      <td>Aldi</td>\n",
       "      <td>2.95</td>\n",
       "    </tr>\n",
       "    <tr>\n",
       "      <th>3</th>\n",
       "      <td>butter</td>\n",
       "      <td>1698754764-4</td>\n",
       "      <td>https://www.aldi-now.ch/de/milchprodukte-&amp;-eie...</td>\n",
       "      <td>MILFINA Kochbutter</td>\n",
       "      <td>3.49</td>\n",
       "      <td>250</td>\n",
       "      <td>Aldi</td>\n",
       "      <td>1.40</td>\n",
       "    </tr>\n",
       "    <tr>\n",
       "      <th>4</th>\n",
       "      <td>butter</td>\n",
       "      <td>1698754764-5</td>\n",
       "      <td>https://www.aldi-now.ch/de/milchprodukte-&amp;-eie...</td>\n",
       "      <td>MILFINA Kräuterbutter</td>\n",
       "      <td>2.85</td>\n",
       "      <td>100</td>\n",
       "      <td>Aldi</td>\n",
       "      <td>2.85</td>\n",
       "    </tr>\n",
       "  </tbody>\n",
       "</table>\n",
       "</div>"
      ],
      "text/plain": [
       "  product_type web-scraper-order  \\\n",
       "0       butter      1698754764-1   \n",
       "1       butter      1698754764-2   \n",
       "2       butter      1698754764-3   \n",
       "3       butter      1698754764-4   \n",
       "4       butter      1698754764-5   \n",
       "\n",
       "                               web-scraper-start-url  \\\n",
       "0  https://www.aldi-now.ch/de/milchprodukte-&-eie...   \n",
       "1  https://www.aldi-now.ch/de/milchprodukte-&-eie...   \n",
       "2  https://www.aldi-now.ch/de/milchprodukte-&-eie...   \n",
       "3  https://www.aldi-now.ch/de/milchprodukte-&-eie...   \n",
       "4  https://www.aldi-now.ch/de/milchprodukte-&-eie...   \n",
       "\n",
       "                        productname_raw  price_raw  weight_raw Supermarkt  \\\n",
       "0                            Die Butter       3.95         250       Aldi   \n",
       "1         RETOUR AUX SOURCES BIO Butter       4.19         200       Aldi   \n",
       "2  BIO NATURA Butter 100 g, laktosefrei       2.95         100       Aldi   \n",
       "3                    MILFINA Kochbutter       3.49         250       Aldi   \n",
       "4                 MILFINA Kräuterbutter       2.85         100       Aldi   \n",
       "\n",
       "   price_per_100g  \n",
       "0            1.58  \n",
       "1            2.10  \n",
       "2            2.95  \n",
       "3            1.40  \n",
       "4            2.85  "
      ]
     },
     "execution_count": 28,
     "metadata": {},
     "output_type": "execute_result"
    }
   ],
   "source": [
    "df = pd.read_csv('CSV/prepared/Butter_Merged.csv', \n",
    "                 sep=';', \n",
    "                 encoding='utf-8')[['product_type', 'web-scraper-order', 'web-scraper-start-url', 'productname_raw', 'price_raw', 'weight_raw', 'Supermarkt', 'price_per_100g']]\n",
    "print(df.shape)\n",
    "df.head(5)\n"
   ]
  },
  {
   "cell_type": "code",
   "execution_count": 29,
   "metadata": {},
   "outputs": [
    {
     "data": {
      "text/plain": [
       "124"
      ]
     },
     "execution_count": 29,
     "metadata": {},
     "output_type": "execute_result"
    }
   ],
   "source": [
    "df.to_sql(name = 'butter_table',\n",
    "          con = conn,\n",
    "          index = False,\n",
    "          if_exists = 'replace')"
   ]
  },
  {
   "cell_type": "code",
   "execution_count": 30,
   "metadata": {},
   "outputs": [
    {
     "name": "stdout",
     "output_type": "stream",
     "text": [
      "['product_type', 'web-scraper-order', 'web-scraper-start-url', 'productname_raw', 'price_raw', 'weight_raw', 'Supermarkt', 'price_per_100g']\n",
      "    product_type web-scraper-order  \\\n",
      "0         butter      1698754764-1   \n",
      "1         butter      1698754764-2   \n",
      "2         butter      1698754764-3   \n",
      "3         butter      1698754764-4   \n",
      "4         butter      1698754764-5   \n",
      "..           ...               ...   \n",
      "119       butter     1698740582-60   \n",
      "120       butter     1698740582-61   \n",
      "121       butter     1698740582-62   \n",
      "122       butter     1698740582-63   \n",
      "123       butter     1698740582-64   \n",
      "\n",
      "                                 web-scraper-start-url  \\\n",
      "0    https://www.aldi-now.ch/de/milchprodukte-&-eie...   \n",
      "1    https://www.aldi-now.ch/de/milchprodukte-&-eie...   \n",
      "2    https://www.aldi-now.ch/de/milchprodukte-&-eie...   \n",
      "3    https://www.aldi-now.ch/de/milchprodukte-&-eie...   \n",
      "4    https://www.aldi-now.ch/de/milchprodukte-&-eie...   \n",
      "..                                                 ...   \n",
      "119  https://www.migros.ch/de/search?query=Butter&f...   \n",
      "120  https://www.migros.ch/de/search?query=Butter&f...   \n",
      "121  https://www.migros.ch/de/search?query=Butter&f...   \n",
      "122  https://www.migros.ch/de/search?query=Butter&f...   \n",
      "123  https://www.migros.ch/de/search?query=Butter&f...   \n",
      "\n",
      "                           productname_raw  price_raw  weight_raw Supermarkt  \\\n",
      "0                               Die Butter       3.95         250       Aldi   \n",
      "1            RETOUR AUX SOURCES BIO Butter       4.19         200       Aldi   \n",
      "2     BIO NATURA Butter 100 g, laktosefrei       2.95         100       Aldi   \n",
      "3                       MILFINA Kochbutter       3.49         250       Aldi   \n",
      "4                    MILFINA Kräuterbutter       2.85         100       Aldi   \n",
      "..                                     ...        ...         ...        ...   \n",
      "119              Züribieter Molkereibutter       3.90         200     Migros   \n",
      "120                              Margarine       2.90         250     Migros   \n",
      "121                              Margarine       5.50         500     Migros   \n",
      "122    Anna's Best Laugenbrezel mit Butter       2.95         120     Migros   \n",
      "123  Anna's Best Kürbis Butter Nut gekocht       3.30         400     Migros   \n",
      "\n",
      "     price_per_100g  \n",
      "0              1.58  \n",
      "1              2.10  \n",
      "2              2.95  \n",
      "3              1.40  \n",
      "4              2.85  \n",
      "..              ...  \n",
      "119            1.95  \n",
      "120            1.16  \n",
      "121            1.10  \n",
      "122            2.46  \n",
      "123            0.82  \n",
      "\n",
      "[124 rows x 8 columns]\n"
     ]
    }
   ],
   "source": [
    "# Query the SQL-table for butter_table (all records)\n",
    "cursor.execute('''SELECT *\n",
    "               FROM butter_table''')\n",
    "\n",
    "# Spaltennamen extrahieren\n",
    "columns = [description[0] for description in cursor.description]\n",
    "print(columns)\n",
    "df_all = pd.DataFrame(cursor.fetchall(), columns=columns)\n",
    "print(df_all)\n"
   ]
  },
  {
   "cell_type": "markdown",
   "metadata": {},
   "source": [
    "## Write data to the SQL-table in data base (NOCH NICHT GETESTET)"
   ]
  }
 ],
 "metadata": {
  "kernelspec": {
   "display_name": "Python 3",
   "language": "python",
   "name": "python3"
  },
  "language_info": {
   "codemirror_mode": {
    "name": "ipython",
    "version": 3
   },
   "file_extension": ".py",
   "mimetype": "text/x-python",
   "name": "python",
   "nbconvert_exporter": "python",
   "pygments_lexer": "ipython3",
   "version": "3.10.8"
  }
 },
 "nbformat": 4,
 "nbformat_minor": 2
}
