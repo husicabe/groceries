{
 "cells": [
  {
   "cell_type": "markdown",
   "metadata": {},
   "source": [
    "# ImportiImporting and preparing rental apartments dataeren"
   ]
  },
  {
   "cell_type": "markdown",
   "metadata": {},
   "source": [
    "## Libraries and settings"
   ]
  },
  {
   "cell_type": "code",
   "execution_count": 5,
   "metadata": {},
   "outputs": [
    {
     "name": "stdout",
     "output_type": "stream",
     "text": [
      "/workspaces/groceries\n"
     ]
    }
   ],
   "source": [
    "# Libraries\n",
    "import os\n",
    "import re\n",
    "import time\n",
    "import fnmatch\n",
    "import numpy as np\n",
    "import pandas as pd\n",
    "\n",
    "# Ignore warnings\n",
    "import warnings\n",
    "warnings.filterwarnings(\"ignore\")\n",
    "\n",
    "# Get current working directory\n",
    "print(os.getcwd())"
   ]
  },
  {
   "cell_type": "code",
   "execution_count": 6,
   "metadata": {},
   "outputs": [
    {
     "name": "stdout",
     "output_type": "stream",
     "text": [
      "Die Datei CSV/prepared/Eggs_Merged.csv wurde erfolgreich erstellt.\n"
     ]
    }
   ],
   "source": [
    "import os\n",
    "import pandas as pd\n",
    "\n",
    "def get_supermarket_from_filename(filename):\n",
    "    if 'Aldi' in filename:\n",
    "        return 'Aldi'\n",
    "    elif 'Coop' in filename:\n",
    "        return 'Coop'\n",
    "    elif 'Migros' in filename:\n",
    "        return 'Migros'\n",
    "    else:\n",
    "        return 'Unknown Supermarket'\n",
    "\n",
    "def merge_and_save_eggs(input_folder, output_folder, output_filename):\n",
    "    if not os.path.exists(output_folder):\n",
    "        os.makedirs(output_folder)\n",
    "\n",
    "    input_files = [\n",
    "        'Aldi_Eggs.csv',\n",
    "        'Coop_Eggs.csv',\n",
    "        'Migros_Eggs.csv'\n",
    "    ]\n",
    "\n",
    "    input_paths = [os.path.join(input_folder, file) for file in input_files]\n",
    "\n",
    "    output_path = os.path.join(output_folder, output_filename)\n",
    "\n",
    "    if not os.path.exists(output_path):\n",
    "        df_list = []\n",
    "        for input_path in input_paths:\n",
    "            df = pd.read_csv(input_path, sep=';')\n",
    "            df['Supermarkt'] = get_supermarket_from_filename(input_path)\n",
    "            df['price_per_piece'] = (df['price_raw'] / df['pieces_raw']).round(2)\n",
    "            df_list.append(df)\n",
    "\n",
    "        merged_df = pd.concat(df_list, ignore_index=True)\n",
    "\n",
    "        merged_df.to_csv(output_path, index=False, sep=';')\n",
    "        print(f\"Die Datei {output_path} wurde erfolgreich erstellt.\")\n",
    "    else:\n",
    "        print(f\"Die Datei {output_path} existiert bereits.\")\n",
    "\n",
    "input_folder = 'CSV/'\n",
    "output_folder = 'CSV/prepared/'\n",
    "output_filename = 'Eggs_Merged.csv'\n",
    "\n",
    "merge_and_save_eggs(input_folder, output_folder, output_filename)\n"
   ]
  }
 ],
 "metadata": {
  "kernelspec": {
   "display_name": "Python 3",
   "language": "python",
   "name": "python3"
  },
  "language_info": {
   "codemirror_mode": {
    "name": "ipython",
    "version": 3
   },
   "file_extension": ".py",
   "mimetype": "text/x-python",
   "name": "python",
   "nbconvert_exporter": "python",
   "pygments_lexer": "ipython3",
   "version": "3.10.8"
  }
 },
 "nbformat": 4,
 "nbformat_minor": 2
}
