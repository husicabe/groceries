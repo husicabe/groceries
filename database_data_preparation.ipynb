{
 "cells": [
  {
   "cell_type": "markdown",
   "metadata": {},
   "source": [
    "# ImportiImporting and preparing rental apartments dataeren"
   ]
  },
  {
   "cell_type": "markdown",
   "metadata": {},
   "source": [
    "## Libraries and settings"
   ]
  },
  {
   "cell_type": "code",
   "execution_count": 4,
   "metadata": {},
   "outputs": [
    {
     "name": "stdout",
     "output_type": "stream",
     "text": [
      "/workspaces/groceries\n"
     ]
    }
   ],
   "source": [
    "# Libraries\n",
    "import os\n",
    "import re\n",
    "import time\n",
    "import fnmatch\n",
    "import numpy as np\n",
    "import pandas as pd\n",
    "\n",
    "# Ignore warnings\n",
    "import warnings\n",
    "warnings.filterwarnings(\"ignore\")\n",
    "\n",
    "# Get current working directory\n",
    "print(os.getcwd())"
   ]
  },
  {
   "cell_type": "markdown",
   "metadata": {},
   "source": [
    "## Merge"
   ]
  },
  {
   "cell_type": "code",
   "execution_count": 5,
   "metadata": {},
   "outputs": [],
   "source": [
    "import pandas as pd\n",
    "import os\n",
    "\n",
    "# Liste der Dateipfade\n",
    "datei_pfade = [\n",
    "    'CSV/Aldi_Butter.csv',\n",
    "    'CSV/Aldi_Eggs.csv',\n",
    "    'CSV/Aldi_Flour.csv',\n",
    "    'CSV/Coop_Butter.csv',\n",
    "    'CSV/Coop_Eggs.csv',\n",
    "    'CSV/Coop_Flour.csv',\n",
    "    'CSV/Migros_Butter.csv',\n",
    "    'CSV/Migros_Eggs.csv',\n",
    "    'CSV/Migros_Mehl.csv'\n",
    "]\n",
    "\n",
    "# Eine leere DataFrame erstellen, um die Daten zu speichern\n",
    "gesamt_df = pd.DataFrame()\n",
    "\n",
    "# Durchlaufen Sie die Liste der Dateipfade und fügen Sie die Daten dem Gesamt-DataFrame hinzu\n",
    "for datei_pfad in datei_pfade:\n",
    "    df = pd.read_csv(datei_pfad, sep=';')  # Änderung hier: sep=';'\n",
    "    gesamt_df = pd.concat([gesamt_df, df], ignore_index=True)  # Änderung hier: Verwendung von pd.concat\n",
    "\n",
    "# Den Gesamt-DataFrame in eine neue CSV-Datei schreiben\n",
    "gesamt_df.to_csv('gesamt_datei.csv', index=False)\n"
   ]
  },
  {
   "cell_type": "markdown",
   "metadata": {},
   "source": [
    "## Importing data"
   ]
  },
  {
   "cell_type": "code",
   "execution_count": 6,
   "metadata": {},
   "outputs": [
    {
     "name": "stdout",
     "output_type": "stream",
     "text": [
      "gesamt_datei.csv\n"
     ]
    },
    {
     "data": {
      "text/html": [
       "<div>\n",
       "<style scoped>\n",
       "    .dataframe tbody tr th:only-of-type {\n",
       "        vertical-align: middle;\n",
       "    }\n",
       "\n",
       "    .dataframe tbody tr th {\n",
       "        vertical-align: top;\n",
       "    }\n",
       "\n",
       "    .dataframe thead th {\n",
       "        text-align: right;\n",
       "    }\n",
       "</style>\n",
       "<table border=\"1\" class=\"dataframe\">\n",
       "  <thead>\n",
       "    <tr style=\"text-align: right;\">\n",
       "      <th></th>\n",
       "      <th>product_type</th>\n",
       "      <th>web-scraper-order</th>\n",
       "      <th>web-scraper-start-url</th>\n",
       "      <th>productname_raw</th>\n",
       "      <th>price_raw</th>\n",
       "      <th>weight_raw</th>\n",
       "      <th>pieces_raw</th>\n",
       "    </tr>\n",
       "  </thead>\n",
       "  <tbody>\n",
       "    <tr>\n",
       "      <th>0</th>\n",
       "      <td>butter</td>\n",
       "      <td>1698754764-1</td>\n",
       "      <td>https://www.aldi-now.ch/de/milchprodukte-&amp;-eie...</td>\n",
       "      <td>Die Butter</td>\n",
       "      <td>3.95</td>\n",
       "      <td>250 g</td>\n",
       "      <td>NaN</td>\n",
       "    </tr>\n",
       "    <tr>\n",
       "      <th>1</th>\n",
       "      <td>butter</td>\n",
       "      <td>1698754764-2</td>\n",
       "      <td>https://www.aldi-now.ch/de/milchprodukte-&amp;-eie...</td>\n",
       "      <td>RETOUR AUX SOURCES BIO Butter</td>\n",
       "      <td>4.19</td>\n",
       "      <td>200 g</td>\n",
       "      <td>NaN</td>\n",
       "    </tr>\n",
       "    <tr>\n",
       "      <th>2</th>\n",
       "      <td>butter</td>\n",
       "      <td>1698754764-3</td>\n",
       "      <td>https://www.aldi-now.ch/de/milchprodukte-&amp;-eie...</td>\n",
       "      <td>BIO NATURA Butter 100 g, laktosefrei</td>\n",
       "      <td>2.95</td>\n",
       "      <td>100 g</td>\n",
       "      <td>NaN</td>\n",
       "    </tr>\n",
       "    <tr>\n",
       "      <th>3</th>\n",
       "      <td>butter</td>\n",
       "      <td>1698754764-4</td>\n",
       "      <td>https://www.aldi-now.ch/de/milchprodukte-&amp;-eie...</td>\n",
       "      <td>MILFINA Kochbutter</td>\n",
       "      <td>3.49</td>\n",
       "      <td>250 g</td>\n",
       "      <td>NaN</td>\n",
       "    </tr>\n",
       "    <tr>\n",
       "      <th>4</th>\n",
       "      <td>butter</td>\n",
       "      <td>1698754764-5</td>\n",
       "      <td>https://www.aldi-now.ch/de/milchprodukte-&amp;-eie...</td>\n",
       "      <td>MILFINA Kräuterbutter</td>\n",
       "      <td>2.85</td>\n",
       "      <td>100 g</td>\n",
       "      <td>NaN</td>\n",
       "    </tr>\n",
       "  </tbody>\n",
       "</table>\n",
       "</div>"
      ],
      "text/plain": [
       "  product_type web-scraper-order  \\\n",
       "0       butter      1698754764-1   \n",
       "1       butter      1698754764-2   \n",
       "2       butter      1698754764-3   \n",
       "3       butter      1698754764-4   \n",
       "4       butter      1698754764-5   \n",
       "\n",
       "                               web-scraper-start-url  \\\n",
       "0  https://www.aldi-now.ch/de/milchprodukte-&-eie...   \n",
       "1  https://www.aldi-now.ch/de/milchprodukte-&-eie...   \n",
       "2  https://www.aldi-now.ch/de/milchprodukte-&-eie...   \n",
       "3  https://www.aldi-now.ch/de/milchprodukte-&-eie...   \n",
       "4  https://www.aldi-now.ch/de/milchprodukte-&-eie...   \n",
       "\n",
       "                        productname_raw  price_raw weight_raw  pieces_raw  \n",
       "0                            Die Butter       3.95      250 g         NaN  \n",
       "1         RETOUR AUX SOURCES BIO Butter       4.19      200 g         NaN  \n",
       "2  BIO NATURA Butter 100 g, laktosefrei       2.95      100 g         NaN  \n",
       "3                    MILFINA Kochbutter       3.49      250 g         NaN  \n",
       "4                 MILFINA Kräuterbutter       2.85      100 g         NaN  "
      ]
     },
     "execution_count": 6,
     "metadata": {},
     "output_type": "execute_result"
    }
   ],
   "source": [
    "# Show .csv - files in the directory\n",
    "flist = fnmatch.filter(os.listdir('.'), '*.csv')\n",
    "for i in flist:\n",
    "    print(i)\n",
    "\n",
    "# Read the data to a pandas data frame\n",
    "df = pd.read_csv('gesamt_datei.csv', sep=',', encoding='utf-8')\n",
    "\n",
    "# Show first records of data frame\n",
    "df.head()"
   ]
  }
 ],
 "metadata": {
  "kernelspec": {
   "display_name": "Python 3",
   "language": "python",
   "name": "python3"
  },
  "language_info": {
   "codemirror_mode": {
    "name": "ipython",
    "version": 3
   },
   "file_extension": ".py",
   "mimetype": "text/x-python",
   "name": "python",
   "nbconvert_exporter": "python",
   "pygments_lexer": "ipython3",
   "version": "3.10.8"
  }
 },
 "nbformat": 4,
 "nbformat_minor": 2
}
