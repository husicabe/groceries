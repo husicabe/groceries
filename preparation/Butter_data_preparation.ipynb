{
 "cells": [
  {
   "cell_type": "markdown",
   "metadata": {},
   "source": [
    "# ImportiImporting and preparing rental apartments dataeren"
   ]
  },
  {
   "cell_type": "markdown",
   "metadata": {},
   "source": [
    "## Libraries and settings"
   ]
  },
  {
   "cell_type": "code",
   "execution_count": 227,
   "metadata": {},
   "outputs": [
    {
     "name": "stdout",
     "output_type": "stream",
     "text": [
      "/workspaces/groceries/preparation\n"
     ]
    }
   ],
   "source": [
    "# Libraries\n",
    "import os\n",
    "import re\n",
    "import time\n",
    "import fnmatch\n",
    "import numpy as np\n",
    "import pandas as pd\n",
    "\n",
    "# Ignore warnings\n",
    "import warnings\n",
    "warnings.filterwarnings(\"ignore\")\n",
    "\n",
    "# Get current working directory\n",
    "print(os.getcwd())"
   ]
  },
  {
   "cell_type": "markdown",
   "metadata": {},
   "source": [
    "## CSV Letzte Zeile"
   ]
  },
  {
   "cell_type": "code",
   "execution_count": 228,
   "metadata": {},
   "outputs": [
    {
     "name": "stdout",
     "output_type": "stream",
     "text": [
      "Die Datei ../CSV/prepared/prepared_CSV_Aldi_Butter.csv existiert bereits.\n",
      "Die Datei ../CSV/prepared/prepared_CSV_Coop_Butter.csv existiert bereits.\n",
      "Die Datei ../CSV/prepared/prepared_CSV_Migros_Butter.csv existiert bereits.\n"
     ]
    }
   ],
   "source": [
    "import os\n",
    "import pandas as pd\n",
    "\n",
    "def create_prepared_csv(input_path, output_path, supermarket):\n",
    "    # Überprüfen, ob die Ausgabedatei bereits existiert\n",
    "    if not os.path.exists(output_path):\n",
    "        # DataFrame aus der Eingabedatei erstellen\n",
    "        df = pd.read_csv(input_path, sep=';')\n",
    "        # Neue Spalte \"Supermarkt\" hinzufügen\n",
    "        df['Supermarkt'] = supermarket\n",
    "        # DataFrame in eine neue CSV-Datei schreiben\n",
    "        df.to_csv(output_path, index=False)\n",
    "        print(f\"Die Datei {output_path} wurde erfolgreich erstellt.\")\n",
    "    else:\n",
    "        print(f\"Die Datei {output_path} existiert bereits.\")\n",
    "\n",
    "# Aldi Butter\n",
    "create_prepared_csv('../CSV/Aldi_Butter.csv', '../CSV/prepared/prepared_CSV_Aldi_Butter.csv', 'Aldi')\n",
    "\n",
    "# Coop Butter\n",
    "create_prepared_csv('../CSV/Coop_Butter.csv', '../CSV/prepared/prepared_CSV_Coop_Butter.csv', 'Coop')\n",
    "\n",
    "# Migros Butter\n",
    "create_prepared_csv('../CSV/Migros_Butter.csv', '../CSV/prepared/prepared_CSV_Migros_Butter.csv', 'Migros')\n"
   ]
  },
  {
   "cell_type": "markdown",
   "metadata": {},
   "source": [
    "## Merge Eggs"
   ]
  },
  {
   "cell_type": "code",
   "execution_count": 229,
   "metadata": {},
   "outputs": [],
   "source": [
    "import pandas as pd\n",
    "import os\n",
    "\n",
    "# Liste der Dateipfade\n",
    "Butters_merge = [\n",
    "    '../CSV/prepared/prepared_CSV_Aldi_Butter.csv',\n",
    "    '../CSV/prepared/prepared_CSV_Coop_Butter.csv',\n",
    "    '../CSV/prepared/prepared_CSV_Migros_Butter.csv'\n",
    "]\n",
    "\n",
    "# Eine leere DataFrame erstellen, um die Daten zu speichern\n",
    "gesamt_df = pd.DataFrame()\n",
    "\n",
    "# Durchlaufen Sie die Liste der Dateipfade und fügen Sie die Daten dem Gesamt-DataFrame hinzu\n",
    "for Butter_merge in Butters_merge:\n",
    "    df = pd.read_csv(Butter_merge, sep=',', encoding='utf-8')  # Änderung hier: sep=';'\n",
    "    gesamt_df = pd.concat([gesamt_df, df], ignore_index=True)  # Änderung hier: Verwendung von pd.concat\n",
    "\n",
    "# Den Gesamt-DataFrame in eine neue CSV-Datei schreiben\n",
    "gesamt_df.to_csv('Butter_merge.csv', index=False)\n"
   ]
  },
  {
   "cell_type": "markdown",
   "metadata": {},
   "source": [
    "## Importing data"
   ]
  },
  {
   "cell_type": "code",
   "execution_count": 230,
   "metadata": {},
   "outputs": [
    {
     "name": "stdout",
     "output_type": "stream",
     "text": [
      "Egg_merge.csv\n",
      "Flour_merge.csv\n",
      "Butter_merge.csv\n"
     ]
    },
    {
     "data": {
      "text/html": [
       "<div>\n",
       "<style scoped>\n",
       "    .dataframe tbody tr th:only-of-type {\n",
       "        vertical-align: middle;\n",
       "    }\n",
       "\n",
       "    .dataframe tbody tr th {\n",
       "        vertical-align: top;\n",
       "    }\n",
       "\n",
       "    .dataframe thead th {\n",
       "        text-align: right;\n",
       "    }\n",
       "</style>\n",
       "<table border=\"1\" class=\"dataframe\">\n",
       "  <thead>\n",
       "    <tr style=\"text-align: right;\">\n",
       "      <th></th>\n",
       "      <th>product_type,web-scraper-order,web-scraper-start-url,productname_raw,price_raw,weight_raw,Supermarkt</th>\n",
       "    </tr>\n",
       "  </thead>\n",
       "  <tbody>\n",
       "    <tr>\n",
       "      <th>0</th>\n",
       "      <td>butter,1698754764-1,https://www.aldi-now.ch/de...</td>\n",
       "    </tr>\n",
       "    <tr>\n",
       "      <th>1</th>\n",
       "      <td>butter,1698754764-2,https://www.aldi-now.ch/de...</td>\n",
       "    </tr>\n",
       "    <tr>\n",
       "      <th>2</th>\n",
       "      <td>butter,1698754764-3,https://www.aldi-now.ch/de...</td>\n",
       "    </tr>\n",
       "    <tr>\n",
       "      <th>3</th>\n",
       "      <td>butter,1698754764-4,https://www.aldi-now.ch/de...</td>\n",
       "    </tr>\n",
       "    <tr>\n",
       "      <th>4</th>\n",
       "      <td>butter,1698754764-5,https://www.aldi-now.ch/de...</td>\n",
       "    </tr>\n",
       "    <tr>\n",
       "      <th>5</th>\n",
       "      <td>butter,1698754764-6,https://www.aldi-now.ch/de...</td>\n",
       "    </tr>\n",
       "    <tr>\n",
       "      <th>6</th>\n",
       "      <td>butter,1698754764-7,https://www.aldi-now.ch/de...</td>\n",
       "    </tr>\n",
       "    <tr>\n",
       "      <th>7</th>\n",
       "      <td>butter,1698754764-8,https://www.aldi-now.ch/de...</td>\n",
       "    </tr>\n",
       "    <tr>\n",
       "      <th>8</th>\n",
       "      <td>butter,1698754764-9,https://www.aldi-now.ch/de...</td>\n",
       "    </tr>\n",
       "    <tr>\n",
       "      <th>9</th>\n",
       "      <td>butter,1698754764-10,https://www.aldi-now.ch/d...</td>\n",
       "    </tr>\n",
       "    <tr>\n",
       "      <th>10</th>\n",
       "      <td>butter,1698754764-11,https://www.aldi-now.ch/d...</td>\n",
       "    </tr>\n",
       "    <tr>\n",
       "      <th>11</th>\n",
       "      <td>butter,1698754764-12,https://www.aldi-now.ch/d...</td>\n",
       "    </tr>\n",
       "    <tr>\n",
       "      <th>12</th>\n",
       "      <td>butter,1698754764-13,https://www.aldi-now.ch/d...</td>\n",
       "    </tr>\n",
       "    <tr>\n",
       "      <th>13</th>\n",
       "      <td>butter,1698754764-14,https://www.aldi-now.ch/d...</td>\n",
       "    </tr>\n",
       "    <tr>\n",
       "      <th>14</th>\n",
       "      <td>butter,1698754764-15,https://www.aldi-now.ch/d...</td>\n",
       "    </tr>\n",
       "    <tr>\n",
       "      <th>15</th>\n",
       "      <td>butter,1698754764-16,https://www.aldi-now.ch/d...</td>\n",
       "    </tr>\n",
       "    <tr>\n",
       "      <th>16</th>\n",
       "      <td>butter,1698740581-1,https://www.coop.ch/de/sea...</td>\n",
       "    </tr>\n",
       "    <tr>\n",
       "      <th>17</th>\n",
       "      <td>butter,1698740581-2,https://www.coop.ch/de/sea...</td>\n",
       "    </tr>\n",
       "    <tr>\n",
       "      <th>18</th>\n",
       "      <td>butter,1698740581-3,https://www.coop.ch/de/sea...</td>\n",
       "    </tr>\n",
       "    <tr>\n",
       "      <th>19</th>\n",
       "      <td>butter,1698740581-4,https://www.coop.ch/de/sea...</td>\n",
       "    </tr>\n",
       "    <tr>\n",
       "      <th>20</th>\n",
       "      <td>butter,1698740581-5,https://www.coop.ch/de/sea...</td>\n",
       "    </tr>\n",
       "    <tr>\n",
       "      <th>21</th>\n",
       "      <td>butter,1698740581-6,https://www.coop.ch/de/sea...</td>\n",
       "    </tr>\n",
       "    <tr>\n",
       "      <th>22</th>\n",
       "      <td>butter,1698740581-7,https://www.coop.ch/de/sea...</td>\n",
       "    </tr>\n",
       "    <tr>\n",
       "      <th>23</th>\n",
       "      <td>butter,1698740581-8,https://www.coop.ch/de/sea...</td>\n",
       "    </tr>\n",
       "    <tr>\n",
       "      <th>24</th>\n",
       "      <td>butter,1698740581-9,https://www.coop.ch/de/sea...</td>\n",
       "    </tr>\n",
       "    <tr>\n",
       "      <th>25</th>\n",
       "      <td>butter,1698740581-10,https://www.coop.ch/de/se...</td>\n",
       "    </tr>\n",
       "    <tr>\n",
       "      <th>26</th>\n",
       "      <td>butter,1698740581-11,https://www.coop.ch/de/se...</td>\n",
       "    </tr>\n",
       "    <tr>\n",
       "      <th>27</th>\n",
       "      <td>butter,1698740581-12,https://www.coop.ch/de/se...</td>\n",
       "    </tr>\n",
       "    <tr>\n",
       "      <th>28</th>\n",
       "      <td>butter,1698740581-13,https://www.coop.ch/de/se...</td>\n",
       "    </tr>\n",
       "    <tr>\n",
       "      <th>29</th>\n",
       "      <td>butter,1698740581-14,https://www.coop.ch/de/se...</td>\n",
       "    </tr>\n",
       "    <tr>\n",
       "      <th>30</th>\n",
       "      <td>butter,1698740581-16,https://www.coop.ch/de/se...</td>\n",
       "    </tr>\n",
       "    <tr>\n",
       "      <th>31</th>\n",
       "      <td>butter,1698740581-17,https://www.coop.ch/de/se...</td>\n",
       "    </tr>\n",
       "    <tr>\n",
       "      <th>32</th>\n",
       "      <td>butter,1698740581-18,https://www.coop.ch/de/se...</td>\n",
       "    </tr>\n",
       "    <tr>\n",
       "      <th>33</th>\n",
       "      <td>butter,1698740581-19,https://www.coop.ch/de/se...</td>\n",
       "    </tr>\n",
       "    <tr>\n",
       "      <th>34</th>\n",
       "      <td>butter,1698740581-20,https://www.coop.ch/de/se...</td>\n",
       "    </tr>\n",
       "    <tr>\n",
       "      <th>35</th>\n",
       "      <td>butter,1698740581-21,https://www.coop.ch/de/se...</td>\n",
       "    </tr>\n",
       "    <tr>\n",
       "      <th>36</th>\n",
       "      <td>butter,1698740584-24,https://www.coop.ch/de/se...</td>\n",
       "    </tr>\n",
       "    <tr>\n",
       "      <th>37</th>\n",
       "      <td>butter,1698740584-25,https://www.coop.ch/de/se...</td>\n",
       "    </tr>\n",
       "    <tr>\n",
       "      <th>38</th>\n",
       "      <td>butter,1698740584-26,https://www.coop.ch/de/se...</td>\n",
       "    </tr>\n",
       "    <tr>\n",
       "      <th>39</th>\n",
       "      <td>butter,1698740584-27,https://www.coop.ch/de/se...</td>\n",
       "    </tr>\n",
       "    <tr>\n",
       "      <th>40</th>\n",
       "      <td>butter,1698740584-28,https://www.coop.ch/de/se...</td>\n",
       "    </tr>\n",
       "    <tr>\n",
       "      <th>41</th>\n",
       "      <td>butter,1698740584-29,https://www.coop.ch/de/se...</td>\n",
       "    </tr>\n",
       "    <tr>\n",
       "      <th>42</th>\n",
       "      <td>butter,1698740584-30,https://www.coop.ch/de/se...</td>\n",
       "    </tr>\n",
       "    <tr>\n",
       "      <th>43</th>\n",
       "      <td>butter,1698740584-31,https://www.coop.ch/de/se...</td>\n",
       "    </tr>\n",
       "    <tr>\n",
       "      <th>44</th>\n",
       "      <td>butter,1698740584-32,https://www.coop.ch/de/se...</td>\n",
       "    </tr>\n",
       "    <tr>\n",
       "      <th>45</th>\n",
       "      <td>butter,1698740584-33,https://www.coop.ch/de/se...</td>\n",
       "    </tr>\n",
       "    <tr>\n",
       "      <th>46</th>\n",
       "      <td>butter,1698740584-34,https://www.coop.ch/de/se...</td>\n",
       "    </tr>\n",
       "    <tr>\n",
       "      <th>47</th>\n",
       "      <td>butter,1698740584-35,https://www.coop.ch/de/se...</td>\n",
       "    </tr>\n",
       "    <tr>\n",
       "      <th>48</th>\n",
       "      <td>butter,1698740584-36,https://www.coop.ch/de/se...</td>\n",
       "    </tr>\n",
       "    <tr>\n",
       "      <th>49</th>\n",
       "      <td>butter,1698740584-37,https://www.coop.ch/de/se...</td>\n",
       "    </tr>\n",
       "  </tbody>\n",
       "</table>\n",
       "</div>"
      ],
      "text/plain": [
       "   product_type,web-scraper-order,web-scraper-start-url,productname_raw,price_raw,weight_raw,Supermarkt\n",
       "0   butter,1698754764-1,https://www.aldi-now.ch/de...                                                  \n",
       "1   butter,1698754764-2,https://www.aldi-now.ch/de...                                                  \n",
       "2   butter,1698754764-3,https://www.aldi-now.ch/de...                                                  \n",
       "3   butter,1698754764-4,https://www.aldi-now.ch/de...                                                  \n",
       "4   butter,1698754764-5,https://www.aldi-now.ch/de...                                                  \n",
       "5   butter,1698754764-6,https://www.aldi-now.ch/de...                                                  \n",
       "6   butter,1698754764-7,https://www.aldi-now.ch/de...                                                  \n",
       "7   butter,1698754764-8,https://www.aldi-now.ch/de...                                                  \n",
       "8   butter,1698754764-9,https://www.aldi-now.ch/de...                                                  \n",
       "9   butter,1698754764-10,https://www.aldi-now.ch/d...                                                  \n",
       "10  butter,1698754764-11,https://www.aldi-now.ch/d...                                                  \n",
       "11  butter,1698754764-12,https://www.aldi-now.ch/d...                                                  \n",
       "12  butter,1698754764-13,https://www.aldi-now.ch/d...                                                  \n",
       "13  butter,1698754764-14,https://www.aldi-now.ch/d...                                                  \n",
       "14  butter,1698754764-15,https://www.aldi-now.ch/d...                                                  \n",
       "15  butter,1698754764-16,https://www.aldi-now.ch/d...                                                  \n",
       "16  butter,1698740581-1,https://www.coop.ch/de/sea...                                                  \n",
       "17  butter,1698740581-2,https://www.coop.ch/de/sea...                                                  \n",
       "18  butter,1698740581-3,https://www.coop.ch/de/sea...                                                  \n",
       "19  butter,1698740581-4,https://www.coop.ch/de/sea...                                                  \n",
       "20  butter,1698740581-5,https://www.coop.ch/de/sea...                                                  \n",
       "21  butter,1698740581-6,https://www.coop.ch/de/sea...                                                  \n",
       "22  butter,1698740581-7,https://www.coop.ch/de/sea...                                                  \n",
       "23  butter,1698740581-8,https://www.coop.ch/de/sea...                                                  \n",
       "24  butter,1698740581-9,https://www.coop.ch/de/sea...                                                  \n",
       "25  butter,1698740581-10,https://www.coop.ch/de/se...                                                  \n",
       "26  butter,1698740581-11,https://www.coop.ch/de/se...                                                  \n",
       "27  butter,1698740581-12,https://www.coop.ch/de/se...                                                  \n",
       "28  butter,1698740581-13,https://www.coop.ch/de/se...                                                  \n",
       "29  butter,1698740581-14,https://www.coop.ch/de/se...                                                  \n",
       "30  butter,1698740581-16,https://www.coop.ch/de/se...                                                  \n",
       "31  butter,1698740581-17,https://www.coop.ch/de/se...                                                  \n",
       "32  butter,1698740581-18,https://www.coop.ch/de/se...                                                  \n",
       "33  butter,1698740581-19,https://www.coop.ch/de/se...                                                  \n",
       "34  butter,1698740581-20,https://www.coop.ch/de/se...                                                  \n",
       "35  butter,1698740581-21,https://www.coop.ch/de/se...                                                  \n",
       "36  butter,1698740584-24,https://www.coop.ch/de/se...                                                  \n",
       "37  butter,1698740584-25,https://www.coop.ch/de/se...                                                  \n",
       "38  butter,1698740584-26,https://www.coop.ch/de/se...                                                  \n",
       "39  butter,1698740584-27,https://www.coop.ch/de/se...                                                  \n",
       "40  butter,1698740584-28,https://www.coop.ch/de/se...                                                  \n",
       "41  butter,1698740584-29,https://www.coop.ch/de/se...                                                  \n",
       "42  butter,1698740584-30,https://www.coop.ch/de/se...                                                  \n",
       "43  butter,1698740584-31,https://www.coop.ch/de/se...                                                  \n",
       "44  butter,1698740584-32,https://www.coop.ch/de/se...                                                  \n",
       "45  butter,1698740584-33,https://www.coop.ch/de/se...                                                  \n",
       "46  butter,1698740584-34,https://www.coop.ch/de/se...                                                  \n",
       "47  butter,1698740584-35,https://www.coop.ch/de/se...                                                  \n",
       "48  butter,1698740584-36,https://www.coop.ch/de/se...                                                  \n",
       "49  butter,1698740584-37,https://www.coop.ch/de/se...                                                  "
      ]
     },
     "execution_count": 230,
     "metadata": {},
     "output_type": "execute_result"
    }
   ],
   "source": [
    "# Show .csv - files in the directory\n",
    "flist = fnmatch.filter(os.listdir('.'), '*.csv')\n",
    "for i in flist:\n",
    "    print(i)\n",
    "\n",
    "# Read the data to a pandas data frame\n",
    "df = pd.read_csv('Butter_merge.csv', sep=';', encoding='utf-8')\n",
    "\n",
    "# Show first records of data frame\n",
    "df.head(50)"
   ]
  },
  {
   "cell_type": "markdown",
   "metadata": {},
   "source": [
    "## Count number of rows and columns in the data frame"
   ]
  },
  {
   "cell_type": "code",
   "execution_count": 231,
   "metadata": {},
   "outputs": [
    {
     "name": "stdout",
     "output_type": "stream",
     "text": [
      "Dimension: (124, 1)\n",
      "Number of rows: 124\n",
      "Number of columns: 1\n"
     ]
    }
   ],
   "source": [
    "# Dimension (rows, columns)\n",
    "print('Dimension:', df.shape)\n",
    "\n",
    "# Number of rows\n",
    "print('Number of rows:', df.shape[0])\n",
    "\n",
    "# Number of columns\n",
    "print('Number of columns:', df.shape[1])"
   ]
  },
  {
   "cell_type": "markdown",
   "metadata": {},
   "source": [
    "## Get data types (raw-format from web scraping)"
   ]
  },
  {
   "cell_type": "code",
   "execution_count": 232,
   "metadata": {},
   "outputs": [
    {
     "data": {
      "text/plain": [
       "product_type,web-scraper-order,web-scraper-start-url,productname_raw,price_raw,weight_raw,Supermarkt    object\n",
       "dtype: object"
      ]
     },
     "execution_count": 232,
     "metadata": {},
     "output_type": "execute_result"
    }
   ],
   "source": [
    "# Get data types (note that in pandas, a string is referred to as 'object')\n",
    "df.dtypes"
   ]
  },
  {
   "cell_type": "markdown",
   "metadata": {},
   "source": [
    "## Extract and save relevant information from raw data using regular expressions (regex)"
   ]
  },
  {
   "cell_type": "markdown",
   "metadata": {},
   "source": [
    "### Extract number of rooms"
   ]
  },
  {
   "cell_type": "code",
   "execution_count": 233,
   "metadata": {},
   "outputs": [
    {
     "ename": "FileNotFoundError",
     "evalue": "[Errno 2] No such file or directory: '../CSV/Butter_merge.csv'",
     "output_type": "error",
     "traceback": [
      "\u001b[0;31m---------------------------------------------------------------------------\u001b[0m",
      "\u001b[0;31mFileNotFoundError\u001b[0m                         Traceback (most recent call last)",
      "\u001b[1;32m/workspaces/groceries/preparation/Butter_data_preparation.ipynb Zelle 16\u001b[0m line \u001b[0;36m7\n\u001b[1;32m      <a href='vscode-notebook-cell://codespaces%2Bideal-engine-9pwgxqjj75vhpr97/workspaces/groceries/preparation/Butter_data_preparation.ipynb#X21sdnNjb2RlLXJlbW90ZQ%3D%3D?line=3'>4</a>\u001b[0m butter_merge_path \u001b[39m=\u001b[39m \u001b[39m'\u001b[39m\u001b[39m../CSV/Butter_merge.csv\u001b[39m\u001b[39m'\u001b[39m  \u001b[39m# Aktualisiere den Pfad entsprechend\u001b[39;00m\n\u001b[1;32m      <a href='vscode-notebook-cell://codespaces%2Bideal-engine-9pwgxqjj75vhpr97/workspaces/groceries/preparation/Butter_data_preparation.ipynb#X21sdnNjb2RlLXJlbW90ZQ%3D%3D?line=5'>6</a>\u001b[0m \u001b[39m# DataFrame aus der Butter_merge.csv-Datei erstellen\u001b[39;00m\n\u001b[0;32m----> <a href='vscode-notebook-cell://codespaces%2Bideal-engine-9pwgxqjj75vhpr97/workspaces/groceries/preparation/Butter_data_preparation.ipynb#X21sdnNjb2RlLXJlbW90ZQ%3D%3D?line=6'>7</a>\u001b[0m df \u001b[39m=\u001b[39m pd\u001b[39m.\u001b[39;49mread_csv(butter_merge_path, sep\u001b[39m=\u001b[39;49m\u001b[39m'\u001b[39;49m\u001b[39m,\u001b[39;49m\u001b[39m'\u001b[39;49m)\n\u001b[1;32m      <a href='vscode-notebook-cell://codespaces%2Bideal-engine-9pwgxqjj75vhpr97/workspaces/groceries/preparation/Butter_data_preparation.ipynb#X21sdnNjb2RlLXJlbW90ZQ%3D%3D?line=8'>9</a>\u001b[0m \u001b[39m# Spaltennamen vorbereiten\u001b[39;00m\n\u001b[1;32m     <a href='vscode-notebook-cell://codespaces%2Bideal-engine-9pwgxqjj75vhpr97/workspaces/groceries/preparation/Butter_data_preparation.ipynb#X21sdnNjb2RlLXJlbW90ZQ%3D%3D?line=9'>10</a>\u001b[0m column_names \u001b[39m=\u001b[39m df\u001b[39m.\u001b[39mcolumns[\u001b[39m0\u001b[39m]\u001b[39m.\u001b[39msplit(\u001b[39m'\u001b[39m\u001b[39m,\u001b[39m\u001b[39m'\u001b[39m)\n",
      "File \u001b[0;32m~/.local/lib/python3.10/site-packages/pandas/io/parsers/readers.py:948\u001b[0m, in \u001b[0;36mread_csv\u001b[0;34m(filepath_or_buffer, sep, delimiter, header, names, index_col, usecols, dtype, engine, converters, true_values, false_values, skipinitialspace, skiprows, skipfooter, nrows, na_values, keep_default_na, na_filter, verbose, skip_blank_lines, parse_dates, infer_datetime_format, keep_date_col, date_parser, date_format, dayfirst, cache_dates, iterator, chunksize, compression, thousands, decimal, lineterminator, quotechar, quoting, doublequote, escapechar, comment, encoding, encoding_errors, dialect, on_bad_lines, delim_whitespace, low_memory, memory_map, float_precision, storage_options, dtype_backend)\u001b[0m\n\u001b[1;32m    935\u001b[0m kwds_defaults \u001b[39m=\u001b[39m _refine_defaults_read(\n\u001b[1;32m    936\u001b[0m     dialect,\n\u001b[1;32m    937\u001b[0m     delimiter,\n\u001b[0;32m   (...)\u001b[0m\n\u001b[1;32m    944\u001b[0m     dtype_backend\u001b[39m=\u001b[39mdtype_backend,\n\u001b[1;32m    945\u001b[0m )\n\u001b[1;32m    946\u001b[0m kwds\u001b[39m.\u001b[39mupdate(kwds_defaults)\n\u001b[0;32m--> 948\u001b[0m \u001b[39mreturn\u001b[39;00m _read(filepath_or_buffer, kwds)\n",
      "File \u001b[0;32m~/.local/lib/python3.10/site-packages/pandas/io/parsers/readers.py:611\u001b[0m, in \u001b[0;36m_read\u001b[0;34m(filepath_or_buffer, kwds)\u001b[0m\n\u001b[1;32m    608\u001b[0m _validate_names(kwds\u001b[39m.\u001b[39mget(\u001b[39m\"\u001b[39m\u001b[39mnames\u001b[39m\u001b[39m\"\u001b[39m, \u001b[39mNone\u001b[39;00m))\n\u001b[1;32m    610\u001b[0m \u001b[39m# Create the parser.\u001b[39;00m\n\u001b[0;32m--> 611\u001b[0m parser \u001b[39m=\u001b[39m TextFileReader(filepath_or_buffer, \u001b[39m*\u001b[39;49m\u001b[39m*\u001b[39;49mkwds)\n\u001b[1;32m    613\u001b[0m \u001b[39mif\u001b[39;00m chunksize \u001b[39mor\u001b[39;00m iterator:\n\u001b[1;32m    614\u001b[0m     \u001b[39mreturn\u001b[39;00m parser\n",
      "File \u001b[0;32m~/.local/lib/python3.10/site-packages/pandas/io/parsers/readers.py:1448\u001b[0m, in \u001b[0;36mTextFileReader.__init__\u001b[0;34m(self, f, engine, **kwds)\u001b[0m\n\u001b[1;32m   1445\u001b[0m     \u001b[39mself\u001b[39m\u001b[39m.\u001b[39moptions[\u001b[39m\"\u001b[39m\u001b[39mhas_index_names\u001b[39m\u001b[39m\"\u001b[39m] \u001b[39m=\u001b[39m kwds[\u001b[39m\"\u001b[39m\u001b[39mhas_index_names\u001b[39m\u001b[39m\"\u001b[39m]\n\u001b[1;32m   1447\u001b[0m \u001b[39mself\u001b[39m\u001b[39m.\u001b[39mhandles: IOHandles \u001b[39m|\u001b[39m \u001b[39mNone\u001b[39;00m \u001b[39m=\u001b[39m \u001b[39mNone\u001b[39;00m\n\u001b[0;32m-> 1448\u001b[0m \u001b[39mself\u001b[39m\u001b[39m.\u001b[39m_engine \u001b[39m=\u001b[39m \u001b[39mself\u001b[39;49m\u001b[39m.\u001b[39;49m_make_engine(f, \u001b[39mself\u001b[39;49m\u001b[39m.\u001b[39;49mengine)\n",
      "File \u001b[0;32m~/.local/lib/python3.10/site-packages/pandas/io/parsers/readers.py:1705\u001b[0m, in \u001b[0;36mTextFileReader._make_engine\u001b[0;34m(self, f, engine)\u001b[0m\n\u001b[1;32m   1703\u001b[0m     \u001b[39mif\u001b[39;00m \u001b[39m\"\u001b[39m\u001b[39mb\u001b[39m\u001b[39m\"\u001b[39m \u001b[39mnot\u001b[39;00m \u001b[39min\u001b[39;00m mode:\n\u001b[1;32m   1704\u001b[0m         mode \u001b[39m+\u001b[39m\u001b[39m=\u001b[39m \u001b[39m\"\u001b[39m\u001b[39mb\u001b[39m\u001b[39m\"\u001b[39m\n\u001b[0;32m-> 1705\u001b[0m \u001b[39mself\u001b[39m\u001b[39m.\u001b[39mhandles \u001b[39m=\u001b[39m get_handle(\n\u001b[1;32m   1706\u001b[0m     f,\n\u001b[1;32m   1707\u001b[0m     mode,\n\u001b[1;32m   1708\u001b[0m     encoding\u001b[39m=\u001b[39;49m\u001b[39mself\u001b[39;49m\u001b[39m.\u001b[39;49moptions\u001b[39m.\u001b[39;49mget(\u001b[39m\"\u001b[39;49m\u001b[39mencoding\u001b[39;49m\u001b[39m\"\u001b[39;49m, \u001b[39mNone\u001b[39;49;00m),\n\u001b[1;32m   1709\u001b[0m     compression\u001b[39m=\u001b[39;49m\u001b[39mself\u001b[39;49m\u001b[39m.\u001b[39;49moptions\u001b[39m.\u001b[39;49mget(\u001b[39m\"\u001b[39;49m\u001b[39mcompression\u001b[39;49m\u001b[39m\"\u001b[39;49m, \u001b[39mNone\u001b[39;49;00m),\n\u001b[1;32m   1710\u001b[0m     memory_map\u001b[39m=\u001b[39;49m\u001b[39mself\u001b[39;49m\u001b[39m.\u001b[39;49moptions\u001b[39m.\u001b[39;49mget(\u001b[39m\"\u001b[39;49m\u001b[39mmemory_map\u001b[39;49m\u001b[39m\"\u001b[39;49m, \u001b[39mFalse\u001b[39;49;00m),\n\u001b[1;32m   1711\u001b[0m     is_text\u001b[39m=\u001b[39;49mis_text,\n\u001b[1;32m   1712\u001b[0m     errors\u001b[39m=\u001b[39;49m\u001b[39mself\u001b[39;49m\u001b[39m.\u001b[39;49moptions\u001b[39m.\u001b[39;49mget(\u001b[39m\"\u001b[39;49m\u001b[39mencoding_errors\u001b[39;49m\u001b[39m\"\u001b[39;49m, \u001b[39m\"\u001b[39;49m\u001b[39mstrict\u001b[39;49m\u001b[39m\"\u001b[39;49m),\n\u001b[1;32m   1713\u001b[0m     storage_options\u001b[39m=\u001b[39;49m\u001b[39mself\u001b[39;49m\u001b[39m.\u001b[39;49moptions\u001b[39m.\u001b[39;49mget(\u001b[39m\"\u001b[39;49m\u001b[39mstorage_options\u001b[39;49m\u001b[39m\"\u001b[39;49m, \u001b[39mNone\u001b[39;49;00m),\n\u001b[1;32m   1714\u001b[0m )\n\u001b[1;32m   1715\u001b[0m \u001b[39massert\u001b[39;00m \u001b[39mself\u001b[39m\u001b[39m.\u001b[39mhandles \u001b[39mis\u001b[39;00m \u001b[39mnot\u001b[39;00m \u001b[39mNone\u001b[39;00m\n\u001b[1;32m   1716\u001b[0m f \u001b[39m=\u001b[39m \u001b[39mself\u001b[39m\u001b[39m.\u001b[39mhandles\u001b[39m.\u001b[39mhandle\n",
      "File \u001b[0;32m~/.local/lib/python3.10/site-packages/pandas/io/common.py:863\u001b[0m, in \u001b[0;36mget_handle\u001b[0;34m(path_or_buf, mode, encoding, compression, memory_map, is_text, errors, storage_options)\u001b[0m\n\u001b[1;32m    858\u001b[0m \u001b[39melif\u001b[39;00m \u001b[39misinstance\u001b[39m(handle, \u001b[39mstr\u001b[39m):\n\u001b[1;32m    859\u001b[0m     \u001b[39m# Check whether the filename is to be opened in binary mode.\u001b[39;00m\n\u001b[1;32m    860\u001b[0m     \u001b[39m# Binary mode does not support 'encoding' and 'newline'.\u001b[39;00m\n\u001b[1;32m    861\u001b[0m     \u001b[39mif\u001b[39;00m ioargs\u001b[39m.\u001b[39mencoding \u001b[39mand\u001b[39;00m \u001b[39m\"\u001b[39m\u001b[39mb\u001b[39m\u001b[39m\"\u001b[39m \u001b[39mnot\u001b[39;00m \u001b[39min\u001b[39;00m ioargs\u001b[39m.\u001b[39mmode:\n\u001b[1;32m    862\u001b[0m         \u001b[39m# Encoding\u001b[39;00m\n\u001b[0;32m--> 863\u001b[0m         handle \u001b[39m=\u001b[39m \u001b[39mopen\u001b[39;49m(\n\u001b[1;32m    864\u001b[0m             handle,\n\u001b[1;32m    865\u001b[0m             ioargs\u001b[39m.\u001b[39;49mmode,\n\u001b[1;32m    866\u001b[0m             encoding\u001b[39m=\u001b[39;49mioargs\u001b[39m.\u001b[39;49mencoding,\n\u001b[1;32m    867\u001b[0m             errors\u001b[39m=\u001b[39;49merrors,\n\u001b[1;32m    868\u001b[0m             newline\u001b[39m=\u001b[39;49m\u001b[39m\"\u001b[39;49m\u001b[39m\"\u001b[39;49m,\n\u001b[1;32m    869\u001b[0m         )\n\u001b[1;32m    870\u001b[0m     \u001b[39melse\u001b[39;00m:\n\u001b[1;32m    871\u001b[0m         \u001b[39m# Binary mode\u001b[39;00m\n\u001b[1;32m    872\u001b[0m         handle \u001b[39m=\u001b[39m \u001b[39mopen\u001b[39m(handle, ioargs\u001b[39m.\u001b[39mmode)\n",
      "\u001b[0;31mFileNotFoundError\u001b[0m: [Errno 2] No such file or directory: '../CSV/Butter_merge.csv'"
     ]
    }
   ],
   "source": [
    "import pandas as pd\n",
    "\n",
    "# Pfad zur Butter_merge.csv-Datei\n",
    "butter_merge_path = '../CSV/Butter_merge.csv'  # Aktualisiere den Pfad entsprechend\n",
    "\n",
    "# DataFrame aus der Butter_merge.csv-Datei erstellen\n",
    "df = pd.read_csv(butter_merge_path, sep=',')\n",
    "\n",
    "# Spaltennamen vorbereiten\n",
    "column_names = df.columns[0].split(',')\n",
    "\n",
    "# Setze die korrekten Spaltennamen\n",
    "df.columns = column_names\n",
    "\n",
    "# Zeige nur die Werte in der Spalte 'weight_raw' an\n",
    "weights = df['weight_raw']\n",
    "\n",
    "# Zeige die Werte an\n",
    "print(weights)\n"
   ]
  }
 ],
 "metadata": {
  "kernelspec": {
   "display_name": "Python 3",
   "language": "python",
   "name": "python3"
  },
  "language_info": {
   "codemirror_mode": {
    "name": "ipython",
    "version": 3
   },
   "file_extension": ".py",
   "mimetype": "text/x-python",
   "name": "python",
   "nbconvert_exporter": "python",
   "pygments_lexer": "ipython3",
   "version": "3.10.8"
  }
 },
 "nbformat": 4,
 "nbformat_minor": 2
}
