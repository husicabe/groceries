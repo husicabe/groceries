{
 "cells": [
  {
   "cell_type": "markdown",
   "metadata": {},
   "source": [
    "# ImportiImporting and preparing rental apartments dataeren"
   ]
  },
  {
   "cell_type": "markdown",
   "metadata": {},
   "source": [
    "## Libraries and settings"
   ]
  },
  {
   "cell_type": "code",
   "execution_count": 27,
   "metadata": {},
   "outputs": [
    {
     "name": "stdout",
     "output_type": "stream",
     "text": [
      "/workspaces/groceries/preparation\n"
     ]
    }
   ],
   "source": [
    "# Libraries\n",
    "import os\n",
    "import re\n",
    "import time\n",
    "import fnmatch\n",
    "import numpy as np\n",
    "import pandas as pd\n",
    "\n",
    "# Ignore warnings\n",
    "import warnings\n",
    "warnings.filterwarnings(\"ignore\")\n",
    "\n",
    "# Get current working directory\n",
    "print(os.getcwd())"
   ]
  },
  {
   "cell_type": "markdown",
   "metadata": {},
   "source": [
    "## CSV Letzte Zeile"
   ]
  },
  {
   "cell_type": "code",
   "execution_count": 28,
   "metadata": {},
   "outputs": [
    {
     "name": "stdout",
     "output_type": "stream",
     "text": [
      "Die Datei ../CSV/prepared/prepared_CSV_Aldi_Flour.csv existiert bereits.\n",
      "Die Datei ../CSV/prepared/prepared_CSV_Coop_Flour.csv existiert bereits.\n",
      "Die Datei ../CSV/prepared/prepared_CSV_Migros_Flour.csv existiert bereits.\n"
     ]
    }
   ],
   "source": [
    "import os\n",
    "import pandas as pd\n",
    "\n",
    "def create_prepared_csv(input_path, output_path, supermarket):\n",
    "    # Überprüfen, ob die Ausgabedatei bereits existiert\n",
    "    if not os.path.exists(output_path):\n",
    "        # DataFrame aus der Eingabedatei erstellen\n",
    "        df = pd.read_csv(input_path, sep=';')\n",
    "        # Neue Spalte \"Supermarkt\" hinzufügen\n",
    "        df['Supermarkt'] = supermarket\n",
    "        # DataFrame in eine neue CSV-Datei schreiben\n",
    "        df.to_csv(output_path, index=False)\n",
    "        print(f\"Die Datei {output_path} wurde erfolgreich erstellt.\")\n",
    "    else:\n",
    "        print(f\"Die Datei {output_path} existiert bereits.\")\n",
    "\n",
    "# Aldi Flour\n",
    "create_prepared_csv('../CSV/Aldi_Flour.csv', '../CSV/prepared/prepared_CSV_Aldi_Flour.csv', 'Aldi')\n",
    "\n",
    "# Coop Flour\n",
    "create_prepared_csv('../CSV/Coop_Flour.csv', '../CSV/prepared/prepared_CSV_Coop_Flour.csv', 'Coop')\n",
    "\n",
    "# Migros Flour\n",
    "create_prepared_csv('../CSV/Migros_Flour.csv', '../CSV/prepared/prepared_CSV_Migros_Flour.csv', 'Migros')\n"
   ]
  },
  {
   "cell_type": "markdown",
   "metadata": {},
   "source": [
    "## Merge Flour"
   ]
  },
  {
   "cell_type": "code",
   "execution_count": 29,
   "metadata": {},
   "outputs": [],
   "source": [
    "import pandas as pd\n",
    "import os\n",
    "\n",
    "# Liste der Dateipfade\n",
    "Flours_merge = [\n",
    "    '../CSV/prepared/prepared_CSV_Aldi_Flour.csv',\n",
    "    '../CSV/prepared/prepared_CSV_Coop_Flour.csv',\n",
    "    '../CSV/prepared/prepared_CSV_Migros_Flour.csv'\n",
    "]\n",
    "\n",
    "# Eine leere DataFrame erstellen, um die Daten zu speichern\n",
    "gesamt_df = pd.DataFrame()\n",
    "\n",
    "# Durchlaufen Sie die Liste der Dateipfade und fügen Sie die Daten dem Gesamt-DataFrame hinzu\n",
    "for Flour_merge in Flours_merge:\n",
    "    df = pd.read_csv(Flour_merge, sep=',', encoding='utf-8')  # Änderung hier: sep=';'\n",
    "    gesamt_df = pd.concat([gesamt_df, df], ignore_index=True)  # Änderung hier: Verwendung von pd.concat\n",
    "\n",
    "# Den Gesamt-DataFrame in eine neue CSV-Datei schreiben\n",
    "gesamt_df.to_csv('Flour_merge.csv', index=False)\n"
   ]
  },
  {
   "cell_type": "markdown",
   "metadata": {},
   "source": [
    "## Importing data"
   ]
  },
  {
   "cell_type": "code",
   "execution_count": 30,
   "metadata": {},
   "outputs": [
    {
     "ename": "AttributeError",
     "evalue": "'float' object has no attribute 'replace'",
     "output_type": "error",
     "traceback": [
      "\u001b[0;31m---------------------------------------------------------------------------\u001b[0m",
      "\u001b[0;31mAttributeError\u001b[0m                            Traceback (most recent call last)",
      "\u001b[1;32m/workspaces/groceries/preparation/Flour_data_preparation.ipynb Zelle 9\u001b[0m line \u001b[0;36m2\n\u001b[1;32m     <a href='vscode-notebook-cell://codespaces%2Bideal-engine-9pwgxqjj75vhpr97/workspaces/groceries/preparation/Flour_data_preparation.ipynb#X11sdnNjb2RlLXJlbW90ZQ%3D%3D?line=24'>25</a>\u001b[0m         \u001b[39mreturn\u001b[39;00m price\n\u001b[1;32m     <a href='vscode-notebook-cell://codespaces%2Bideal-engine-9pwgxqjj75vhpr97/workspaces/groceries/preparation/Flour_data_preparation.ipynb#X11sdnNjb2RlLXJlbW90ZQ%3D%3D?line=26'>27</a>\u001b[0m \u001b[39m# Anwenden der Funktionen\u001b[39;00m\n\u001b[0;32m---> <a href='vscode-notebook-cell://codespaces%2Bideal-engine-9pwgxqjj75vhpr97/workspaces/groceries/preparation/Flour_data_preparation.ipynb#X11sdnNjb2RlLXJlbW90ZQ%3D%3D?line=28'>29</a>\u001b[0m df[\u001b[39m'\u001b[39m\u001b[39mprice_per_kg\u001b[39m\u001b[39m'\u001b[39m] \u001b[39m=\u001b[39m df\u001b[39m.\u001b[39;49mapply(calculate_price_per_kg, axis\u001b[39m=\u001b[39;49m\u001b[39m1\u001b[39;49m)\n\u001b[1;32m     <a href='vscode-notebook-cell://codespaces%2Bideal-engine-9pwgxqjj75vhpr97/workspaces/groceries/preparation/Flour_data_preparation.ipynb#X11sdnNjb2RlLXJlbW90ZQ%3D%3D?line=30'>31</a>\u001b[0m df[\u001b[39m'\u001b[39m\u001b[39mweight_raw\u001b[39m\u001b[39m'\u001b[39m] \u001b[39m=\u001b[39m \u001b[39m'\u001b[39m\u001b[39m1\u001b[39m\u001b[39m'\u001b[39m  \u001b[39m# Setzt das Gewicht auf 1 kg für alle Einträge\u001b[39;00m\n\u001b[1;32m     <a href='vscode-notebook-cell://codespaces%2Bideal-engine-9pwgxqjj75vhpr97/workspaces/groceries/preparation/Flour_data_preparation.ipynb#X11sdnNjb2RlLXJlbW90ZQ%3D%3D?line=32'>33</a>\u001b[0m \u001b[39m# Ergebnis in eine neue CSV-Datei schreiben\u001b[39;00m\n",
      "File \u001b[0;32m~/.local/lib/python3.10/site-packages/pandas/core/frame.py:10037\u001b[0m, in \u001b[0;36mDataFrame.apply\u001b[0;34m(self, func, axis, raw, result_type, args, by_row, **kwargs)\u001b[0m\n\u001b[1;32m  10025\u001b[0m \u001b[39mfrom\u001b[39;00m \u001b[39mpandas\u001b[39;00m\u001b[39m.\u001b[39;00m\u001b[39mcore\u001b[39;00m\u001b[39m.\u001b[39;00m\u001b[39mapply\u001b[39;00m \u001b[39mimport\u001b[39;00m frame_apply\n\u001b[1;32m  10027\u001b[0m op \u001b[39m=\u001b[39m frame_apply(\n\u001b[1;32m  10028\u001b[0m     \u001b[39mself\u001b[39m,\n\u001b[1;32m  10029\u001b[0m     func\u001b[39m=\u001b[39mfunc,\n\u001b[0;32m   (...)\u001b[0m\n\u001b[1;32m  10035\u001b[0m     kwargs\u001b[39m=\u001b[39mkwargs,\n\u001b[1;32m  10036\u001b[0m )\n\u001b[0;32m> 10037\u001b[0m \u001b[39mreturn\u001b[39;00m op\u001b[39m.\u001b[39;49mapply()\u001b[39m.\u001b[39m__finalize__(\u001b[39mself\u001b[39m, method\u001b[39m=\u001b[39m\u001b[39m\"\u001b[39m\u001b[39mapply\u001b[39m\u001b[39m\"\u001b[39m)\n",
      "File \u001b[0;32m~/.local/lib/python3.10/site-packages/pandas/core/apply.py:837\u001b[0m, in \u001b[0;36mFrameApply.apply\u001b[0;34m(self)\u001b[0m\n\u001b[1;32m    834\u001b[0m \u001b[39melif\u001b[39;00m \u001b[39mself\u001b[39m\u001b[39m.\u001b[39mraw:\n\u001b[1;32m    835\u001b[0m     \u001b[39mreturn\u001b[39;00m \u001b[39mself\u001b[39m\u001b[39m.\u001b[39mapply_raw()\n\u001b[0;32m--> 837\u001b[0m \u001b[39mreturn\u001b[39;00m \u001b[39mself\u001b[39;49m\u001b[39m.\u001b[39;49mapply_standard()\n",
      "File \u001b[0;32m~/.local/lib/python3.10/site-packages/pandas/core/apply.py:963\u001b[0m, in \u001b[0;36mFrameApply.apply_standard\u001b[0;34m(self)\u001b[0m\n\u001b[1;32m    962\u001b[0m \u001b[39mdef\u001b[39;00m \u001b[39mapply_standard\u001b[39m(\u001b[39mself\u001b[39m):\n\u001b[0;32m--> 963\u001b[0m     results, res_index \u001b[39m=\u001b[39m \u001b[39mself\u001b[39;49m\u001b[39m.\u001b[39;49mapply_series_generator()\n\u001b[1;32m    965\u001b[0m     \u001b[39m# wrap results\u001b[39;00m\n\u001b[1;32m    966\u001b[0m     \u001b[39mreturn\u001b[39;00m \u001b[39mself\u001b[39m\u001b[39m.\u001b[39mwrap_results(results, res_index)\n",
      "File \u001b[0;32m~/.local/lib/python3.10/site-packages/pandas/core/apply.py:979\u001b[0m, in \u001b[0;36mFrameApply.apply_series_generator\u001b[0;34m(self)\u001b[0m\n\u001b[1;32m    976\u001b[0m \u001b[39mwith\u001b[39;00m option_context(\u001b[39m\"\u001b[39m\u001b[39mmode.chained_assignment\u001b[39m\u001b[39m\"\u001b[39m, \u001b[39mNone\u001b[39;00m):\n\u001b[1;32m    977\u001b[0m     \u001b[39mfor\u001b[39;00m i, v \u001b[39min\u001b[39;00m \u001b[39menumerate\u001b[39m(series_gen):\n\u001b[1;32m    978\u001b[0m         \u001b[39m# ignore SettingWithCopy here in case the user mutates\u001b[39;00m\n\u001b[0;32m--> 979\u001b[0m         results[i] \u001b[39m=\u001b[39m \u001b[39mself\u001b[39;49m\u001b[39m.\u001b[39;49mfunc(v, \u001b[39m*\u001b[39;49m\u001b[39mself\u001b[39;49m\u001b[39m.\u001b[39;49margs, \u001b[39m*\u001b[39;49m\u001b[39m*\u001b[39;49m\u001b[39mself\u001b[39;49m\u001b[39m.\u001b[39;49mkwargs)\n\u001b[1;32m    980\u001b[0m         \u001b[39mif\u001b[39;00m \u001b[39misinstance\u001b[39m(results[i], ABCSeries):\n\u001b[1;32m    981\u001b[0m             \u001b[39m# If we have a view on v, we need to make a copy because\u001b[39;00m\n\u001b[1;32m    982\u001b[0m             \u001b[39m#  series_generator will swap out the underlying data\u001b[39;00m\n\u001b[1;32m    983\u001b[0m             results[i] \u001b[39m=\u001b[39m results[i]\u001b[39m.\u001b[39mcopy(deep\u001b[39m=\u001b[39m\u001b[39mFalse\u001b[39;00m)\n",
      "\u001b[1;32m/workspaces/groceries/preparation/Flour_data_preparation.ipynb Zelle 9\u001b[0m line \u001b[0;36m1\n\u001b[1;32m      <a href='vscode-notebook-cell://codespaces%2Bideal-engine-9pwgxqjj75vhpr97/workspaces/groceries/preparation/Flour_data_preparation.ipynb#X11sdnNjb2RlLXJlbW90ZQ%3D%3D?line=8'>9</a>\u001b[0m \u001b[39mdef\u001b[39;00m \u001b[39mcalculate_price_per_kg\u001b[39m(row):\n\u001b[1;32m     <a href='vscode-notebook-cell://codespaces%2Bideal-engine-9pwgxqjj75vhpr97/workspaces/groceries/preparation/Flour_data_preparation.ipynb#X11sdnNjb2RlLXJlbW90ZQ%3D%3D?line=10'>11</a>\u001b[0m     weight \u001b[39m=\u001b[39m row[\u001b[39m'\u001b[39m\u001b[39mweight_raw\u001b[39m\u001b[39m'\u001b[39m]\n\u001b[0;32m---> <a href='vscode-notebook-cell://codespaces%2Bideal-engine-9pwgxqjj75vhpr97/workspaces/groceries/preparation/Flour_data_preparation.ipynb#X11sdnNjb2RlLXJlbW90ZQ%3D%3D?line=12'>13</a>\u001b[0m     price \u001b[39m=\u001b[39m \u001b[39mfloat\u001b[39m(row[\u001b[39m'\u001b[39;49m\u001b[39mprice_raw\u001b[39;49m\u001b[39m'\u001b[39;49m]\u001b[39m.\u001b[39;49mreplace(\u001b[39m'\u001b[39m\u001b[39m,\u001b[39m\u001b[39m'\u001b[39m, \u001b[39m'\u001b[39m\u001b[39m.\u001b[39m\u001b[39m'\u001b[39m))\n\u001b[1;32m     <a href='vscode-notebook-cell://codespaces%2Bideal-engine-9pwgxqjj75vhpr97/workspaces/groceries/preparation/Flour_data_preparation.ipynb#X11sdnNjb2RlLXJlbW90ZQ%3D%3D?line=14'>15</a>\u001b[0m     \u001b[39mif\u001b[39;00m \u001b[39m'\u001b[39m\u001b[39mx\u001b[39m\u001b[39m'\u001b[39m \u001b[39min\u001b[39;00m weight:\n\u001b[1;32m     <a href='vscode-notebook-cell://codespaces%2Bideal-engine-9pwgxqjj75vhpr97/workspaces/groceries/preparation/Flour_data_preparation.ipynb#X11sdnNjb2RlLXJlbW90ZQ%3D%3D?line=16'>17</a>\u001b[0m         quantity, unit \u001b[39m=\u001b[39m weight\u001b[39m.\u001b[39msplit(\u001b[39m'\u001b[39m\u001b[39mx\u001b[39m\u001b[39m'\u001b[39m)\n",
      "\u001b[0;31mAttributeError\u001b[0m: 'float' object has no attribute 'replace'"
     ]
    }
   ],
   "source": [
    "import pandas as pd\n",
    " \n",
    "# CSV-Datei einlesen\n",
    "\n",
    "df = pd.read_csv('Flour_merge.csv')\n",
    " \n",
    "# Funktion zur Berechnung des Preises pro Kilogramm\n",
    "\n",
    "def calculate_price_per_kg(row):\n",
    "\n",
    "    weight = row['weight_raw']\n",
    "\n",
    "    price = float(row['price_raw'].replace(',', '.'))\n",
    "\n",
    "    if 'x' in weight:\n",
    "\n",
    "        quantity, unit = weight.split('x')\n",
    "\n",
    "        quantity = int(quantity.strip())\n",
    "\n",
    "        return price / quantity\n",
    "\n",
    "    else:\n",
    "\n",
    "        return price\n",
    " \n",
    "# Anwenden der Funktionen\n",
    "\n",
    "df['price_per_kg'] = df.apply(calculate_price_per_kg, axis=1)\n",
    "\n",
    "df['weight_raw'] = '1'  # Setzt das Gewicht auf 1 kg für alle Einträge\n",
    " \n",
    "# Ergebnis in eine neue CSV-Datei schreiben\n",
    "\n",
    "df.to_csv('Flour_merge.csv', index=False)\n"
   ]
  },
  {
   "cell_type": "markdown",
   "metadata": {},
   "source": [
    "## Count number of rows and columns in the data frame"
   ]
  },
  {
   "cell_type": "code",
   "execution_count": null,
   "metadata": {},
   "outputs": [
    {
     "name": "stdout",
     "output_type": "stream",
     "text": [
      "Dimension: (67, 7)\n",
      "Number of rows: 67\n",
      "Number of columns: 7\n"
     ]
    }
   ],
   "source": [
    "# Dimension (rows, columns)\n",
    "print('Dimension:', df.shape)\n",
    "\n",
    "# Number of rows\n",
    "print('Number of rows:', df.shape[0])\n",
    "\n",
    "# Number of columns\n",
    "print('Number of columns:', df.shape[1])"
   ]
  },
  {
   "cell_type": "markdown",
   "metadata": {},
   "source": [
    "## Get data types (raw-format from web scraping)"
   ]
  },
  {
   "cell_type": "code",
   "execution_count": null,
   "metadata": {},
   "outputs": [
    {
     "data": {
      "text/plain": [
       "product_type              object\n",
       "web-scraper-order         object\n",
       "web-scraper-start-url     object\n",
       "productname_raw           object\n",
       "price_raw                float64\n",
       "weight_raw                object\n",
       "Supermarkt                object\n",
       "dtype: object"
      ]
     },
     "execution_count": 17,
     "metadata": {},
     "output_type": "execute_result"
    }
   ],
   "source": [
    "# Get data types (note that in pandas, a string is referred to as 'object')\n",
    "df.dtypes"
   ]
  },
  {
   "cell_type": "markdown",
   "metadata": {},
   "source": [
    "# Extract total pieces\n"
   ]
  },
  {
   "cell_type": "code",
   "execution_count": null,
   "metadata": {},
   "outputs": [
    {
     "name": "stdout",
     "output_type": "stream",
     "text": [
      "0     1\n",
      "1     1\n",
      "2     1\n",
      "3     1\n",
      "4     1\n",
      "     ..\n",
      "62    1\n",
      "63    1\n",
      "64    1\n",
      "65    1\n",
      "66    1\n",
      "Name: weight, Length: 67, dtype: object\n"
     ]
    }
   ],
   "source": [
    "import pandas as pd\n",
    "\n",
    "# Annahme: Die Daten sind im DataFrame df gespeichert\n",
    "# df = pd.read_csv('Butter_merge.csv', sep=',', encoding='utf-8')\n",
    "\n",
    "# Zeige nur die Werte in der Spalte 'weight_raw' an\n",
    "weight_raw = df['weight_raw']\n",
    "\n",
    "# Entferne die Einheit 'kg' aus der Spalte 'weight_raw'\n",
    "df['weight'] = weight_raw.str.replace('kg', '')\n",
    "\n",
    "\n",
    "# Zeige die aktualisierten Werte an\n",
    "print(df['weight'])\n",
    "\n"
   ]
  }
 ],
 "metadata": {
  "kernelspec": {
   "display_name": "Python 3",
   "language": "python",
   "name": "python3"
  },
  "language_info": {
   "codemirror_mode": {
    "name": "ipython",
    "version": 3
   },
   "file_extension": ".py",
   "mimetype": "text/x-python",
   "name": "python",
   "nbconvert_exporter": "python",
   "pygments_lexer": "ipython3",
   "version": "3.10.8"
  }
 },
 "nbformat": 4,
 "nbformat_minor": 2
}
