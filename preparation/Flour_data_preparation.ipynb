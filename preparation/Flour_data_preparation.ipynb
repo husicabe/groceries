{
 "cells": [
  {
   "cell_type": "markdown",
   "metadata": {},
   "source": [
    "# ImportiImporting and preparing rental apartments dataeren"
   ]
  },
  {
   "cell_type": "markdown",
   "metadata": {},
   "source": [
    "## Libraries and settings"
   ]
  },
  {
   "cell_type": "code",
<<<<<<< HEAD
   "execution_count": 16,
=======
   "execution_count": 1,
>>>>>>> 03ce825 (Tabelle)
   "metadata": {},
   "outputs": [
    {
     "name": "stdout",
     "output_type": "stream",
     "text": [
      "/workspaces/groceries/preparation\n"
     ]
    }
   ],
   "source": [
    "# Libraries\n",
    "import os\n",
    "import re\n",
    "import time\n",
    "import fnmatch\n",
    "import numpy as np\n",
    "import pandas as pd\n",
    "\n",
    "# Ignore warnings\n",
    "import warnings\n",
    "warnings.filterwarnings(\"ignore\")\n",
    "\n",
    "# Get current working directory\n",
    "print(os.getcwd())"
   ]
  },
  {
   "cell_type": "markdown",
   "metadata": {},
   "source": [
    "## CSV Letzte Zeile"
   ]
  },
  {
   "cell_type": "code",
<<<<<<< HEAD
   "execution_count": 17,
=======
   "execution_count": 2,
>>>>>>> 03ce825 (Tabelle)
   "metadata": {},
   "outputs": [
    {
     "name": "stdout",
     "output_type": "stream",
     "text": [
      "Die Datei ../CSV/prepared/prepared_CSV_Aldi_Flour.csv existiert bereits.\n",
      "Die Datei ../CSV/prepared/prepared_CSV_Coop_Flour.csv existiert bereits.\n",
      "Die Datei ../CSV/prepared/prepared_CSV_Migros_Flour.csv existiert bereits.\n"
     ]
    }
   ],
   "source": [
    "import os\n",
    "import pandas as pd\n",
    "\n",
    "def create_prepared_csv(input_path, output_path, supermarket):\n",
    "    # Überprüfen, ob die Ausgabedatei bereits existiert\n",
    "    if not os.path.exists(output_path):\n",
    "        # DataFrame aus der Eingabedatei erstellen\n",
    "        df = pd.read_csv(input_path, sep=';')\n",
    "        # Neue Spalte \"Supermarkt\" hinzufügen\n",
    "        df['Supermarkt'] = supermarket\n",
    "        # DataFrame in eine neue CSV-Datei schreiben\n",
    "        df.to_csv(output_path, index=False)\n",
    "        print(f\"Die Datei {output_path} wurde erfolgreich erstellt.\")\n",
    "    else:\n",
    "        print(f\"Die Datei {output_path} existiert bereits.\")\n",
    "\n",
    "# Aldi Flour\n",
    "create_prepared_csv('../CSV/Aldi_Flour.csv', '../CSV/prepared/prepared_CSV_Aldi_Flour.csv', 'Aldi')\n",
    "\n",
    "# Coop Flour\n",
    "create_prepared_csv('../CSV/Coop_Flour.csv', '../CSV/prepared/prepared_CSV_Coop_Flour.csv', 'Coop')\n",
    "\n",
    "# Migros Flour\n",
    "create_prepared_csv('../CSV/Migros_Flour.csv', '../CSV/prepared/prepared_CSV_Migros_Flour.csv', 'Migros')\n"
   ]
  },
  {
   "cell_type": "markdown",
   "metadata": {},
   "source": [
    "## Merge Flour"
   ]
  },
  {
   "cell_type": "code",
<<<<<<< HEAD
   "execution_count": 18,
=======
   "execution_count": 3,
>>>>>>> 03ce825 (Tabelle)
   "metadata": {},
   "outputs": [],
   "source": [
    "import pandas as pd\n",
    "import os\n",
    "\n",
    "# Liste der Dateipfade\n",
    "Flours_merge = [\n",
    "    '../CSV/prepared/prepared_CSV_Aldi_Flour.csv',\n",
    "    '../CSV/prepared/prepared_CSV_Coop_Flour.csv',\n",
    "    '../CSV/prepared/prepared_CSV_Migros_Flour.csv'\n",
    "]\n",
    "\n",
    "# Eine leere DataFrame erstellen, um die Daten zu speichern\n",
    "gesamt_df = pd.DataFrame()\n",
    "\n",
    "# Durchlaufen Sie die Liste der Dateipfade und fügen Sie die Daten dem Gesamt-DataFrame hinzu\n",
    "for Flour_merge in Flours_merge:\n",
    "    df = pd.read_csv(Flour_merge, sep=';')  # Änderung hier: sep=';'\n",
    "    gesamt_df = pd.concat([gesamt_df, df], ignore_index=True)  # Änderung hier: Verwendung von pd.concat\n",
    "\n",
    "# Den Gesamt-DataFrame in eine neue CSV-Datei schreiben\n",
    "gesamt_df.to_csv('Flour_merge.csv', index=False)\n"
   ]
  },
  {
   "cell_type": "markdown",
   "metadata": {},
   "source": [
    "## Importing data"
   ]
  },
  {
   "cell_type": "code",
<<<<<<< HEAD
   "execution_count": 19,
=======
   "execution_count": 7,
>>>>>>> 03ce825 (Tabelle)
   "metadata": {},
   "outputs": [
    {
     "name": "stdout",
     "output_type": "stream",
     "text": [
      "Egg_merge.csv\n",
      "Flour_merge.csv\n",
      "Butter_merge.csv\n"
     ]
    },
    {
     "data": {
      "text/html": [
       "<div>\n",
       "<style scoped>\n",
       "    .dataframe tbody tr th:only-of-type {\n",
       "        vertical-align: middle;\n",
       "    }\n",
       "\n",
       "    .dataframe tbody tr th {\n",
       "        vertical-align: top;\n",
       "    }\n",
       "\n",
       "    .dataframe thead th {\n",
       "        text-align: right;\n",
       "    }\n",
       "</style>\n",
       "<table border=\"1\" class=\"dataframe\">\n",
       "  <thead>\n",
       "    <tr style=\"text-align: right;\">\n",
       "      <th></th>\n",
       "      <th>product_type,web-scraper-order,web-scraper-start-url,productname_raw,price_raw,weight_raw,Supermarkt</th>\n",
       "    </tr>\n",
       "  </thead>\n",
       "  <tbody>\n",
       "    <tr>\n",
       "      <th>0</th>\n",
       "      <td>flour,1698753392-1,https://www.aldi-now.ch/de/...</td>\n",
       "    </tr>\n",
       "    <tr>\n",
       "      <th>1</th>\n",
       "      <td>flour,1698753392-2,https://www.aldi-now.ch/de/...</td>\n",
       "    </tr>\n",
       "    <tr>\n",
       "      <th>2</th>\n",
       "      <td>flour,1698753392-3,https://www.aldi-now.ch/de/...</td>\n",
       "    </tr>\n",
       "    <tr>\n",
       "      <th>3</th>\n",
       "      <td>flour,1698753392-4,https://www.aldi-now.ch/de/...</td>\n",
       "    </tr>\n",
       "    <tr>\n",
       "      <th>4</th>\n",
       "      <td>flour,1698753392-5,https://www.aldi-now.ch/de/...</td>\n",
       "    </tr>\n",
       "  </tbody>\n",
       "</table>\n",
       "</div>"
      ],
      "text/plain": [
       "  product_type,web-scraper-order,web-scraper-start-url,productname_raw,price_raw,weight_raw,Supermarkt\n",
       "0  flour,1698753392-1,https://www.aldi-now.ch/de/...                                                  \n",
       "1  flour,1698753392-2,https://www.aldi-now.ch/de/...                                                  \n",
       "2  flour,1698753392-3,https://www.aldi-now.ch/de/...                                                  \n",
       "3  flour,1698753392-4,https://www.aldi-now.ch/de/...                                                  \n",
       "4  flour,1698753392-5,https://www.aldi-now.ch/de/...                                                  "
      ]
     },
<<<<<<< HEAD
     "execution_count": 19,
=======
     "execution_count": 7,
>>>>>>> 03ce825 (Tabelle)
     "metadata": {},
     "output_type": "execute_result"
    }
   ],
   "source": [
    "# Show .csv - files in the directory\n",
    "flist = fnmatch.filter(os.listdir('.'), '*.csv')\n",
    "for i in flist:\n",
    "    print(i)\n",
    "\n",
    "# Read the data to a pandas data frame\n",
    "df = pd.read_csv('Flour_merge.csv', sep=',', encoding='utf-8')\n",
    "\n",
    "# Show first records of data frame\n",
    "df.head()"
   ]
  },
  {
   "cell_type": "markdown",
   "metadata": {},
   "source": [
    "## Count number of rows and columns in the data frame"
   ]
  },
  {
   "cell_type": "code",
<<<<<<< HEAD
   "execution_count": 20,
=======
   "execution_count": 5,
>>>>>>> 03ce825 (Tabelle)
   "metadata": {},
   "outputs": [
    {
     "name": "stdout",
     "output_type": "stream",
     "text": [
      "Dimension: (67, 1)\n",
      "Number of rows: 67\n",
      "Number of columns: 1\n"
     ]
    }
   ],
   "source": [
    "# Dimension (rows, columns)\n",
    "print('Dimension:', df.shape)\n",
    "\n",
    "# Number of rows\n",
    "print('Number of rows:', df.shape[0])\n",
    "\n",
    "# Number of columns\n",
    "print('Number of columns:', df.shape[1])"
   ]
  },
  {
   "cell_type": "markdown",
   "metadata": {},
   "source": [
    "## Get data types (raw-format from web scraping)"
   ]
  },
  {
   "cell_type": "code",
<<<<<<< HEAD
   "execution_count": 21,
=======
   "execution_count": 6,
>>>>>>> 03ce825 (Tabelle)
   "metadata": {},
   "outputs": [
    {
     "data": {
      "text/plain": [
       "product_type,web-scraper-order,web-scraper-start-url,productname_raw,price_raw,weight_raw,Supermarkt    object\n",
       "dtype: object"
      ]
     },
<<<<<<< HEAD
     "execution_count": 21,
=======
     "execution_count": 6,
>>>>>>> 03ce825 (Tabelle)
     "metadata": {},
     "output_type": "execute_result"
    }
   ],
   "source": [
    "# Get data types (note that in pandas, a string is referred to as 'object')\n",
    "df.dtypes"
   ]
  }
 ],
 "metadata": {
  "kernelspec": {
   "display_name": "Python 3",
   "language": "python",
   "name": "python3"
  },
  "language_info": {
   "codemirror_mode": {
    "name": "ipython",
    "version": 3
   },
   "file_extension": ".py",
   "mimetype": "text/x-python",
   "name": "python",
   "nbconvert_exporter": "python",
   "pygments_lexer": "ipython3",
   "version": "3.10.8"
  }
 },
 "nbformat": 4,
 "nbformat_minor": 2
}
