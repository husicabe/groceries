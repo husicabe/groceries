{
 "cells": [
  {
   "cell_type": "markdown",
   "metadata": {},
   "source": [
    "# ImportiImporting and preparing rental apartments dataeren"
   ]
  },
  {
   "cell_type": "markdown",
   "metadata": {},
   "source": [
    "## Libraries and settings"
   ]
  },
  {
   "cell_type": "code",
   "execution_count": 40,
   "metadata": {},
   "outputs": [
    {
     "name": "stdout",
     "output_type": "stream",
     "text": [
      "/workspaces/groceries/preparation\n"
     ]
    }
   ],
   "source": [
    "# Libraries\n",
    "import os\n",
    "import re\n",
    "import time\n",
    "import fnmatch\n",
    "import numpy as np\n",
    "import pandas as pd\n",
    "\n",
    "# Ignore warnings\n",
    "import warnings\n",
    "warnings.filterwarnings(\"ignore\")\n",
    "\n",
    "# Get current working directory\n",
    "print(os.getcwd())"
   ]
  },
  {
   "cell_type": "markdown",
   "metadata": {},
   "source": [
    "## CSV Letzte Zeile"
   ]
  },
  {
   "cell_type": "code",
   "execution_count": 41,
   "metadata": {},
   "outputs": [
    {
     "name": "stdout",
     "output_type": "stream",
     "text": [
      "Die Datei ../CSV/prepared/prepared_CSV_Aldi_Flour.csv existiert bereits.\n",
      "Die Datei ../CSV/prepared/prepared_CSV_Coop_Flour.csv existiert bereits.\n",
      "Die Datei ../CSV/prepared/prepared_CSV_Migros_Flour.csv existiert bereits.\n"
     ]
    }
   ],
   "source": [
    "import os\n",
    "import pandas as pd\n",
    "\n",
    "def create_prepared_csv(input_path, output_path, supermarket):\n",
    "    # Überprüfen, ob die Ausgabedatei bereits existiert\n",
    "    if not os.path.exists(output_path):\n",
    "        # DataFrame aus der Eingabedatei erstellen\n",
    "        df = pd.read_csv(input_path, sep=';')\n",
    "        # Neue Spalte \"Supermarkt\" hinzufügen\n",
    "        df['Supermarkt'] = supermarket\n",
    "        # DataFrame in eine neue CSV-Datei schreiben\n",
    "        df.to_csv(output_path, index=False)\n",
    "        print(f\"Die Datei {output_path} wurde erfolgreich erstellt.\")\n",
    "    else:\n",
    "        print(f\"Die Datei {output_path} existiert bereits.\")\n",
    "\n",
    "# Aldi Flour\n",
    "create_prepared_csv('../CSV/Aldi_Flour.csv', '../CSV/prepared/prepared_CSV_Aldi_Flour.csv', 'Aldi')\n",
    "\n",
    "# Coop Flour\n",
    "create_prepared_csv('../CSV/Coop_Flour.csv', '../CSV/prepared/prepared_CSV_Coop_Flour.csv', 'Coop')\n",
    "\n",
    "# Migros Flour\n",
    "create_prepared_csv('../CSV/Migros_Flour.csv', '../CSV/prepared/prepared_CSV_Migros_Flour.csv', 'Migros')\n"
   ]
  },
  {
   "cell_type": "markdown",
   "metadata": {},
   "source": [
    "## Merge Flour"
   ]
  },
  {
   "cell_type": "code",
   "execution_count": 42,
   "metadata": {},
   "outputs": [],
   "source": [
    "import pandas as pd\n",
    "import os\n",
    "\n",
    "# Liste der Dateipfade\n",
    "Flours_merge = [\n",
    "    '../CSV/prepared/prepared_CSV_Aldi_Flour.csv',\n",
    "    '../CSV/prepared/prepared_CSV_Coop_Flour.csv',\n",
    "    '../CSV/prepared/prepared_CSV_Migros_Flour.csv'\n",
    "]\n",
    "\n",
    "# Eine leere DataFrame erstellen, um die Daten zu speichern\n",
    "gesamt_df = pd.DataFrame()\n",
    "\n",
    "# Durchlaufen Sie die Liste der Dateipfade und fügen Sie die Daten dem Gesamt-DataFrame hinzu\n",
    "for Flour_merge in Flours_merge:\n",
    "    df = pd.read_csv(Flour_merge, sep=',', encoding='utf-8')  # Änderung hier: sep=';'\n",
    "    gesamt_df = pd.concat([gesamt_df, df], ignore_index=True)  # Änderung hier: Verwendung von pd.concat\n",
    "\n",
    "# Den Gesamt-DataFrame in eine neue CSV-Datei schreiben\n",
    "gesamt_df.to_csv('Flour_merge.csv', index=False)\n"
   ]
  },
  {
   "cell_type": "markdown",
   "metadata": {},
   "source": [
    "## Importing data"
   ]
  },
  {
   "cell_type": "code",
   "execution_count": 43,
   "metadata": {},
   "outputs": [
    {
     "data": {
      "text/html": [
       "<div>\n",
       "<style scoped>\n",
       "    .dataframe tbody tr th:only-of-type {\n",
       "        vertical-align: middle;\n",
       "    }\n",
       "\n",
       "    .dataframe tbody tr th {\n",
       "        vertical-align: top;\n",
       "    }\n",
       "\n",
       "    .dataframe thead th {\n",
       "        text-align: right;\n",
       "    }\n",
       "</style>\n",
       "<table border=\"1\" class=\"dataframe\">\n",
       "  <thead>\n",
       "    <tr style=\"text-align: right;\">\n",
       "      <th></th>\n",
       "      <th>product_type</th>\n",
       "      <th>web-scraper-order</th>\n",
       "      <th>web-scraper-start-url</th>\n",
       "      <th>productname_raw</th>\n",
       "      <th>price_raw</th>\n",
       "      <th>weight_raw</th>\n",
       "      <th>Supermarkt</th>\n",
       "      <th>price_per_kg</th>\n",
       "    </tr>\n",
       "  </thead>\n",
       "  <tbody>\n",
       "    <tr>\n",
       "      <th>0</th>\n",
       "      <td>flour</td>\n",
       "      <td>1698753392-1</td>\n",
       "      <td>https://www.aldi-now.ch/de/vorr%C3%A4te/backar...</td>\n",
       "      <td>NATURE SUISSE BIO Halbweissmehl</td>\n",
       "      <td>2.99</td>\n",
       "      <td>1</td>\n",
       "      <td>Aldi</td>\n",
       "      <td>2.99</td>\n",
       "    </tr>\n",
       "    <tr>\n",
       "      <th>1</th>\n",
       "      <td>flour</td>\n",
       "      <td>1698753392-2</td>\n",
       "      <td>https://www.aldi-now.ch/de/vorr%C3%A4te/backar...</td>\n",
       "      <td>HAPPY HARVEST Zopfmehl</td>\n",
       "      <td>1.99</td>\n",
       "      <td>1</td>\n",
       "      <td>Aldi</td>\n",
       "      <td>1.99</td>\n",
       "    </tr>\n",
       "    <tr>\n",
       "      <th>2</th>\n",
       "      <td>flour</td>\n",
       "      <td>1698753392-3</td>\n",
       "      <td>https://www.aldi-now.ch/de/vorr%C3%A4te/backar...</td>\n",
       "      <td>HAPPY HARVEST Ruchmehl</td>\n",
       "      <td>2.19</td>\n",
       "      <td>1</td>\n",
       "      <td>Aldi</td>\n",
       "      <td>2.19</td>\n",
       "    </tr>\n",
       "    <tr>\n",
       "      <th>3</th>\n",
       "      <td>flour</td>\n",
       "      <td>1698753392-4</td>\n",
       "      <td>https://www.aldi-now.ch/de/vorr%C3%A4te/backar...</td>\n",
       "      <td>HAPPY HARVEST Weissmehl</td>\n",
       "      <td>0.99</td>\n",
       "      <td>1</td>\n",
       "      <td>Aldi</td>\n",
       "      <td>0.99</td>\n",
       "    </tr>\n",
       "    <tr>\n",
       "      <th>4</th>\n",
       "      <td>flour</td>\n",
       "      <td>1698753392-5</td>\n",
       "      <td>https://www.aldi-now.ch/de/vorr%C3%A4te/backar...</td>\n",
       "      <td>HAPPY HARVEST Brotbackmischung, Vollkornbrot</td>\n",
       "      <td>1.99</td>\n",
       "      <td>1</td>\n",
       "      <td>Aldi</td>\n",
       "      <td>1.99</td>\n",
       "    </tr>\n",
       "    <tr>\n",
       "      <th>...</th>\n",
       "      <td>...</td>\n",
       "      <td>...</td>\n",
       "      <td>...</td>\n",
       "      <td>...</td>\n",
       "      <td>...</td>\n",
       "      <td>...</td>\n",
       "      <td>...</td>\n",
       "      <td>...</td>\n",
       "    </tr>\n",
       "    <tr>\n",
       "      <th>62</th>\n",
       "      <td>flour</td>\n",
       "      <td>1698741806-33</td>\n",
       "      <td>https://www.migros.ch/de/search?query=Mehl</td>\n",
       "      <td>Aus der Region Zopfmehl</td>\n",
       "      <td>2.50</td>\n",
       "      <td>1</td>\n",
       "      <td>Migros</td>\n",
       "      <td>2.50</td>\n",
       "    </tr>\n",
       "    <tr>\n",
       "      <th>63</th>\n",
       "      <td>flour</td>\n",
       "      <td>1698741806-34</td>\n",
       "      <td>https://www.migros.ch/de/search?query=Mehl</td>\n",
       "      <td>Aus der Region Zopfmehl</td>\n",
       "      <td>2.80</td>\n",
       "      <td>1</td>\n",
       "      <td>Migros</td>\n",
       "      <td>2.80</td>\n",
       "    </tr>\n",
       "    <tr>\n",
       "      <th>64</th>\n",
       "      <td>flour</td>\n",
       "      <td>1698741806-42</td>\n",
       "      <td>https://www.migros.ch/de/search?query=Mehl</td>\n",
       "      <td>Mehlmischung glutenfrei</td>\n",
       "      <td>4.90</td>\n",
       "      <td>1</td>\n",
       "      <td>Migros</td>\n",
       "      <td>4.90</td>\n",
       "    </tr>\n",
       "    <tr>\n",
       "      <th>65</th>\n",
       "      <td>flour</td>\n",
       "      <td>1698741806-43</td>\n",
       "      <td>https://www.migros.ch/de/search?query=Mehl</td>\n",
       "      <td>Aus der Region Zopfmehl</td>\n",
       "      <td>3.95</td>\n",
       "      <td>1</td>\n",
       "      <td>Migros</td>\n",
       "      <td>3.95</td>\n",
       "    </tr>\n",
       "    <tr>\n",
       "      <th>66</th>\n",
       "      <td>flour</td>\n",
       "      <td>1698741806-44</td>\n",
       "      <td>https://www.migros.ch/de/search?query=Mehl</td>\n",
       "      <td>Mehlmischung</td>\n",
       "      <td>5.90</td>\n",
       "      <td>1</td>\n",
       "      <td>Migros</td>\n",
       "      <td>5.90</td>\n",
       "    </tr>\n",
       "  </tbody>\n",
       "</table>\n",
       "<p>67 rows × 8 columns</p>\n",
       "</div>"
      ],
      "text/plain": [
       "   product_type web-scraper-order  \\\n",
       "0         flour      1698753392-1   \n",
       "1         flour      1698753392-2   \n",
       "2         flour      1698753392-3   \n",
       "3         flour      1698753392-4   \n",
       "4         flour      1698753392-5   \n",
       "..          ...               ...   \n",
       "62        flour     1698741806-33   \n",
       "63        flour     1698741806-34   \n",
       "64        flour     1698741806-42   \n",
       "65        flour     1698741806-43   \n",
       "66        flour     1698741806-44   \n",
       "\n",
       "                                web-scraper-start-url  \\\n",
       "0   https://www.aldi-now.ch/de/vorr%C3%A4te/backar...   \n",
       "1   https://www.aldi-now.ch/de/vorr%C3%A4te/backar...   \n",
       "2   https://www.aldi-now.ch/de/vorr%C3%A4te/backar...   \n",
       "3   https://www.aldi-now.ch/de/vorr%C3%A4te/backar...   \n",
       "4   https://www.aldi-now.ch/de/vorr%C3%A4te/backar...   \n",
       "..                                                ...   \n",
       "62         https://www.migros.ch/de/search?query=Mehl   \n",
       "63         https://www.migros.ch/de/search?query=Mehl   \n",
       "64         https://www.migros.ch/de/search?query=Mehl   \n",
       "65         https://www.migros.ch/de/search?query=Mehl   \n",
       "66         https://www.migros.ch/de/search?query=Mehl   \n",
       "\n",
       "                                 productname_raw  price_raw weight_raw  \\\n",
       "0                NATURE SUISSE BIO Halbweissmehl       2.99          1   \n",
       "1                         HAPPY HARVEST Zopfmehl       1.99          1   \n",
       "2                         HAPPY HARVEST Ruchmehl       2.19          1   \n",
       "3                        HAPPY HARVEST Weissmehl       0.99          1   \n",
       "4   HAPPY HARVEST Brotbackmischung, Vollkornbrot       1.99          1   \n",
       "..                                           ...        ...        ...   \n",
       "62                       Aus der Region Zopfmehl       2.50          1   \n",
       "63                       Aus der Region Zopfmehl       2.80          1   \n",
       "64                       Mehlmischung glutenfrei       4.90          1   \n",
       "65                       Aus der Region Zopfmehl       3.95          1   \n",
       "66                                  Mehlmischung       5.90          1   \n",
       "\n",
       "   Supermarkt  price_per_kg  \n",
       "0        Aldi          2.99  \n",
       "1        Aldi          1.99  \n",
       "2        Aldi          2.19  \n",
       "3        Aldi          0.99  \n",
       "4        Aldi          1.99  \n",
       "..        ...           ...  \n",
       "62     Migros          2.50  \n",
       "63     Migros          2.80  \n",
       "64     Migros          4.90  \n",
       "65     Migros          3.95  \n",
       "66     Migros          5.90  \n",
       "\n",
       "[67 rows x 8 columns]"
      ]
     },
     "execution_count": 43,
     "metadata": {},
     "output_type": "execute_result"
    }
   ],
   "source": [
    "import pandas as pd\n",
    " \n",
    "# CSV-Datei einlesen\n",
    "df = pd.read_csv('Flour_merge.csv')\n",
    " \n",
    "# Funktion zur Berechnung des Preises pro Kilogramm\n",
    "def calculate_price_per_kg(row):\n",
    "    weight = row['weight_raw']\n",
    "    price = row['price_raw']\n",
    "    # Überprüfen, ob der Preis ein String ist und ggf. ersetzen\n",
    "    if isinstance(price, str):\n",
    "        price = float(price.replace(',', '.'))\n",
    "    if 'x' in weight:\n",
    "        quantity, unit = weight.split('x')\n",
    "        quantity = int(quantity.strip())\n",
    "        return price / quantity\n",
    "    else:\n",
    "        return price\n",
    " \n",
    "# Anwenden der Funktionen\n",
    "df['price_per_kg'] = df.apply(calculate_price_per_kg, axis=1)\n",
    "df['weight_raw'] = '1'  # Setzt das Gewicht auf 1 kg für alle Einträge\n",
    " \n",
    "# Ergebnis in eine neue CSV-Datei schreiben\n",
    "df.to_csv('Flour_merge.csv', index=False)\n",
    "\n",
    "# Show first records of data frame\n",
    "df.head(70)"
   ]
  },
  {
   "cell_type": "markdown",
   "metadata": {},
   "source": [
    "## Count number of rows and columns in the data frame"
   ]
  },
  {
   "cell_type": "code",
   "execution_count": 44,
   "metadata": {},
   "outputs": [
    {
     "name": "stdout",
     "output_type": "stream",
     "text": [
      "Dimension: (67, 8)\n",
      "Number of rows: 67\n",
      "Number of columns: 8\n"
     ]
    }
   ],
   "source": [
    "# Dimension (rows, columns)\n",
    "print('Dimension:', df.shape)\n",
    "\n",
    "# Number of rows\n",
    "print('Number of rows:', df.shape[0])\n",
    "\n",
    "# Number of columns\n",
    "print('Number of columns:', df.shape[1])"
   ]
  },
  {
   "cell_type": "markdown",
   "metadata": {},
   "source": [
    "## Get data types (raw-format from web scraping)"
   ]
  },
  {
   "cell_type": "code",
   "execution_count": 45,
   "metadata": {},
   "outputs": [
    {
     "data": {
      "text/plain": [
       "product_type              object\n",
       "web-scraper-order         object\n",
       "web-scraper-start-url     object\n",
       "productname_raw           object\n",
       "price_raw                float64\n",
       "weight_raw                object\n",
       "Supermarkt                object\n",
       "price_per_kg             float64\n",
       "dtype: object"
      ]
     },
     "execution_count": 45,
     "metadata": {},
     "output_type": "execute_result"
    }
   ],
   "source": [
    "# Get data types (note that in pandas, a string is referred to as 'object')\n",
    "df.dtypes"
   ]
  }
 ],
 "metadata": {
  "kernelspec": {
   "display_name": "Python 3",
   "language": "python",
   "name": "python3"
  },
  "language_info": {
   "codemirror_mode": {
    "name": "ipython",
    "version": 3
   },
   "file_extension": ".py",
   "mimetype": "text/x-python",
   "name": "python",
   "nbconvert_exporter": "python",
   "pygments_lexer": "ipython3",
   "version": "3.10.8"
  }
 },
 "nbformat": 4,
 "nbformat_minor": 2
}
