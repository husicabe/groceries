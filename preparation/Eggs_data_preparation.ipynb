{
 "cells": [
  {
   "cell_type": "markdown",
   "metadata": {},
   "source": [
    "# ImportiImporting and preparing rental apartments dataeren"
   ]
  },
  {
   "cell_type": "markdown",
   "metadata": {},
   "source": [
    "## Libraries and settings"
   ]
  },
  {
   "cell_type": "code",
   "execution_count": 14,
   "metadata": {},
   "outputs": [
    {
     "name": "stdout",
     "output_type": "stream",
     "text": [
      "/workspaces/groceries/preparation\n"
     ]
    }
   ],
   "source": [
    "# Libraries\n",
    "import os\n",
    "import re\n",
    "import time\n",
    "import fnmatch\n",
    "import numpy as np\n",
    "import pandas as pd\n",
    "\n",
    "# Ignore warnings\n",
    "import warnings\n",
    "warnings.filterwarnings(\"ignore\")\n",
    "\n",
    "# Get current working directory\n",
    "print(os.getcwd())"
   ]
  },
  {
   "cell_type": "markdown",
   "metadata": {},
   "source": [
    "## CSV Letzte Zeile"
   ]
  },
  {
   "cell_type": "code",
   "execution_count": 15,
   "metadata": {},
   "outputs": [
    {
     "name": "stdout",
     "output_type": "stream",
     "text": [
      "Die Datei ../CSV/prepared_CSV_Aldi_Eggs.csv existiert bereits.\n",
      "Die Datei ../CSV/prepared_CSV_Coop_Eggs.csv existiert bereits.\n",
      "Die Datei ../CSV/prepared_CSV_Migros_Eggs.csv existiert bereits.\n"
     ]
    }
   ],
   "source": [
    "import os\n",
    "import pandas as pd\n",
    "\n",
    "def create_prepared_csv(input_path, output_path, supermarket):\n",
    "    # Überprüfen, ob die Ausgabedatei bereits existiert\n",
    "    if not os.path.exists(output_path):\n",
    "        # DataFrame aus der Eingabedatei erstellen\n",
    "        df = pd.read_csv(input_path, sep=';')\n",
    "        # Neue Spalte \"Supermarkt\" hinzufügen\n",
    "        df['Supermarkt'] = supermarket\n",
    "        # DataFrame in eine neue CSV-Datei schreiben\n",
    "        df.to_csv(output_path, index=False)\n",
    "        print(f\"Die Datei {output_path} wurde erfolgreich erstellt.\")\n",
    "    else:\n",
    "        print(f\"Die Datei {output_path} existiert bereits.\")\n",
    "\n",
    "# Aldi Eggs\n",
    "create_prepared_csv('../CSV/Aldi_Eggs.csv', '../CSV/prepared_CSV_Aldi_Eggs.csv', 'Aldi')\n",
    "\n",
    "# Coop Eggs\n",
    "create_prepared_csv('../CSV/Coop_Eggs.csv', '../CSV/prepared_CSV_Coop_Eggs.csv', 'Coop')\n",
    "\n",
    "# Migros Eggs\n",
    "create_prepared_csv('../CSV/Migros_Eggs.csv', '../CSV/prepared_CSV_Migros_Eggs.csv', 'Migros')\n",
    "\n"
   ]
  },
  {
   "cell_type": "markdown",
   "metadata": {},
   "source": [
    "## Merge Eggs"
   ]
  },
  {
   "cell_type": "code",
   "execution_count": 16,
   "metadata": {},
   "outputs": [],
   "source": [
    "import pandas as pd\n",
    "import os\n",
    "\n",
    "# Liste der Dateipfade\n",
    "Eggs_merge = [\n",
    "    '../CSV/prepared_CSV_Aldi_Eggs.csv',\n",
    "    '../CSV/prepared_CSV_Coop_Eggs.csv',\n",
    "    '../CSV/prepared_CSV_Migros_Eggs.csv'\n",
    "]\n",
    "\n",
    "# Eine leere DataFrame erstellen, um die Daten zu speichern\n",
    "gesamt_df = pd.DataFrame()\n",
    "\n",
    "# Durchlaufen Sie die Liste der Dateipfade und fügen Sie die Daten dem Gesamt-DataFrame hinzu\n",
    "for Egg_merge in Eggs_merge:\n",
    "    df = pd.read_csv(Egg_merge, sep=';')  # Änderung hier: sep=';'\n",
    "    gesamt_df = pd.concat([gesamt_df, df], ignore_index=True)  # Änderung hier: Verwendung von pd.concat\n",
    "\n",
    "# Den Gesamt-DataFrame in eine neue CSV-Datei schreiben\n",
    "gesamt_df.to_csv('Egg_merge.csv', index=False)\n"
   ]
  },
  {
   "cell_type": "markdown",
   "metadata": {},
   "source": [
    "## Importing data"
   ]
  },
  {
   "cell_type": "code",
   "execution_count": 17,
   "metadata": {},
   "outputs": [
    {
     "name": "stdout",
     "output_type": "stream",
     "text": [
      "Egg_merge.csv\n",
      "Butter_merge.csv\n"
     ]
    },
    {
     "data": {
      "text/html": [
       "<div>\n",
       "<style scoped>\n",
       "    .dataframe tbody tr th:only-of-type {\n",
       "        vertical-align: middle;\n",
       "    }\n",
       "\n",
       "    .dataframe tbody tr th {\n",
       "        vertical-align: top;\n",
       "    }\n",
       "\n",
       "    .dataframe thead th {\n",
       "        text-align: right;\n",
       "    }\n",
       "</style>\n",
       "<table border=\"1\" class=\"dataframe\">\n",
       "  <thead>\n",
       "    <tr style=\"text-align: right;\">\n",
       "      <th></th>\n",
       "      <th>product_type,web-scraper-order,web-scraper-start-url,productname_raw,price_raw,pieces_raw,Supermarkt</th>\n",
       "    </tr>\n",
       "  </thead>\n",
       "  <tbody>\n",
       "    <tr>\n",
       "      <th>0</th>\n",
       "      <td>eggs,1698755441-1,https://www.aldi-now.ch/de/m...</td>\n",
       "    </tr>\n",
       "    <tr>\n",
       "      <th>1</th>\n",
       "      <td>eggs,1698755441-2,https://www.aldi-now.ch/de/m...</td>\n",
       "    </tr>\n",
       "    <tr>\n",
       "      <th>2</th>\n",
       "      <td>eggs,1698755441-3,https://www.aldi-now.ch/de/m...</td>\n",
       "    </tr>\n",
       "    <tr>\n",
       "      <th>3</th>\n",
       "      <td>eggs,1698755441-4,https://www.aldi-now.ch/de/m...</td>\n",
       "    </tr>\n",
       "    <tr>\n",
       "      <th>4</th>\n",
       "      <td>eggs,1698755441-5,https://www.aldi-now.ch/de/m...</td>\n",
       "    </tr>\n",
       "    <tr>\n",
       "      <th>5</th>\n",
       "      <td>eggs,1698755441-6,https://www.aldi-now.ch/de/m...</td>\n",
       "    </tr>\n",
       "    <tr>\n",
       "      <th>6</th>\n",
       "      <td>eggs,1698742811-1,https://www.coop.ch/de/searc...</td>\n",
       "    </tr>\n",
       "    <tr>\n",
       "      <th>7</th>\n",
       "      <td>eggs,1698742811-2,https://www.coop.ch/de/searc...</td>\n",
       "    </tr>\n",
       "    <tr>\n",
       "      <th>8</th>\n",
       "      <td>eggs,1698742811-3,https://www.coop.ch/de/searc...</td>\n",
       "    </tr>\n",
       "    <tr>\n",
       "      <th>9</th>\n",
       "      <td>eggs,1698742811-4,https://www.coop.ch/de/searc...</td>\n",
       "    </tr>\n",
       "    <tr>\n",
       "      <th>10</th>\n",
       "      <td>eggs,1698742811-5,https://www.coop.ch/de/searc...</td>\n",
       "    </tr>\n",
       "    <tr>\n",
       "      <th>11</th>\n",
       "      <td>eggs,1698742811-6,https://www.coop.ch/de/searc...</td>\n",
       "    </tr>\n",
       "    <tr>\n",
       "      <th>12</th>\n",
       "      <td>eggs,1698742811-7,https://www.coop.ch/de/searc...</td>\n",
       "    </tr>\n",
       "    <tr>\n",
       "      <th>13</th>\n",
       "      <td>eggs,1698742811-8,https://www.coop.ch/de/searc...</td>\n",
       "    </tr>\n",
       "    <tr>\n",
       "      <th>14</th>\n",
       "      <td>eggs,1698742811-9,https://www.coop.ch/de/searc...</td>\n",
       "    </tr>\n",
       "    <tr>\n",
       "      <th>15</th>\n",
       "      <td>eggs,1698742811-10,https://www.coop.ch/de/sear...</td>\n",
       "    </tr>\n",
       "    <tr>\n",
       "      <th>16</th>\n",
       "      <td>eggs,1698742811-11,https://www.coop.ch/de/sear...</td>\n",
       "    </tr>\n",
       "    <tr>\n",
       "      <th>17</th>\n",
       "      <td>eggs,1698742811-12,https://www.coop.ch/de/sear...</td>\n",
       "    </tr>\n",
       "    <tr>\n",
       "      <th>18</th>\n",
       "      <td>eggs,1698742811-13,https://www.coop.ch/de/sear...</td>\n",
       "    </tr>\n",
       "    <tr>\n",
       "      <th>19</th>\n",
       "      <td>eggs,1698742811-14,https://www.coop.ch/de/sear...</td>\n",
       "    </tr>\n",
       "    <tr>\n",
       "      <th>20</th>\n",
       "      <td>eggs,1698742811-15,https://www.coop.ch/de/sear...</td>\n",
       "    </tr>\n",
       "    <tr>\n",
       "      <th>21</th>\n",
       "      <td>eggs,1698742811-16,https://www.coop.ch/de/sear...</td>\n",
       "    </tr>\n",
       "    <tr>\n",
       "      <th>22</th>\n",
       "      <td>eggs,1698742125-1,https://www.migros.ch/de/sea...</td>\n",
       "    </tr>\n",
       "    <tr>\n",
       "      <th>23</th>\n",
       "      <td>eggs,1698742125-2,https://www.migros.ch/de/sea...</td>\n",
       "    </tr>\n",
       "    <tr>\n",
       "      <th>24</th>\n",
       "      <td>eggs,1698742125-3,https://www.migros.ch/de/sea...</td>\n",
       "    </tr>\n",
       "    <tr>\n",
       "      <th>25</th>\n",
       "      <td>eggs,1698742125-4,https://www.migros.ch/de/sea...</td>\n",
       "    </tr>\n",
       "    <tr>\n",
       "      <th>26</th>\n",
       "      <td>eggs,1698742125-5,https://www.migros.ch/de/sea...</td>\n",
       "    </tr>\n",
       "    <tr>\n",
       "      <th>27</th>\n",
       "      <td>eggs,1698742125-6,https://www.migros.ch/de/sea...</td>\n",
       "    </tr>\n",
       "    <tr>\n",
       "      <th>28</th>\n",
       "      <td>eggs,1698742125-7,https://www.migros.ch/de/sea...</td>\n",
       "    </tr>\n",
       "    <tr>\n",
       "      <th>29</th>\n",
       "      <td>eggs,1698742125-8,https://www.migros.ch/de/sea...</td>\n",
       "    </tr>\n",
       "    <tr>\n",
       "      <th>30</th>\n",
       "      <td>eggs,1698742125-9,https://www.migros.ch/de/sea...</td>\n",
       "    </tr>\n",
       "    <tr>\n",
       "      <th>31</th>\n",
       "      <td>eggs,1698742125-10,https://www.migros.ch/de/se...</td>\n",
       "    </tr>\n",
       "    <tr>\n",
       "      <th>32</th>\n",
       "      <td>eggs,1698742125-11,https://www.migros.ch/de/se...</td>\n",
       "    </tr>\n",
       "    <tr>\n",
       "      <th>33</th>\n",
       "      <td>eggs,1698742125-12,https://www.migros.ch/de/se...</td>\n",
       "    </tr>\n",
       "    <tr>\n",
       "      <th>34</th>\n",
       "      <td>eggs,1698742125-13,https://www.migros.ch/de/se...</td>\n",
       "    </tr>\n",
       "    <tr>\n",
       "      <th>35</th>\n",
       "      <td>eggs,1698742125-14,https://www.migros.ch/de/se...</td>\n",
       "    </tr>\n",
       "    <tr>\n",
       "      <th>36</th>\n",
       "      <td>eggs,1698742125-15,https://www.migros.ch/de/se...</td>\n",
       "    </tr>\n",
       "    <tr>\n",
       "      <th>37</th>\n",
       "      <td>eggs,1698742125-16,https://www.migros.ch/de/se...</td>\n",
       "    </tr>\n",
       "    <tr>\n",
       "      <th>38</th>\n",
       "      <td>eggs,1698742125-17,https://www.migros.ch/de/se...</td>\n",
       "    </tr>\n",
       "    <tr>\n",
       "      <th>39</th>\n",
       "      <td>eggs,1698742125-18,https://www.migros.ch/de/se...</td>\n",
       "    </tr>\n",
       "    <tr>\n",
       "      <th>40</th>\n",
       "      <td>eggs,1698742125-19,https://www.migros.ch/de/se...</td>\n",
       "    </tr>\n",
       "    <tr>\n",
       "      <th>41</th>\n",
       "      <td>eggs,1698742125-20,https://www.migros.ch/de/se...</td>\n",
       "    </tr>\n",
       "    <tr>\n",
       "      <th>42</th>\n",
       "      <td>eggs,1698742125-21,https://www.migros.ch/de/se...</td>\n",
       "    </tr>\n",
       "    <tr>\n",
       "      <th>43</th>\n",
       "      <td>eggs,1698742125-22,https://www.migros.ch/de/se...</td>\n",
       "    </tr>\n",
       "    <tr>\n",
       "      <th>44</th>\n",
       "      <td>eggs,1698742125-23,https://www.migros.ch/de/se...</td>\n",
       "    </tr>\n",
       "    <tr>\n",
       "      <th>45</th>\n",
       "      <td>eggs,1698742125-24,https://www.migros.ch/de/se...</td>\n",
       "    </tr>\n",
       "    <tr>\n",
       "      <th>46</th>\n",
       "      <td>eggs,1698742125-25,https://www.migros.ch/de/se...</td>\n",
       "    </tr>\n",
       "    <tr>\n",
       "      <th>47</th>\n",
       "      <td>eggs,1698742125-26,https://www.migros.ch/de/se...</td>\n",
       "    </tr>\n",
       "    <tr>\n",
       "      <th>48</th>\n",
       "      <td>eggs,1698742125-27,https://www.migros.ch/de/se...</td>\n",
       "    </tr>\n",
       "    <tr>\n",
       "      <th>49</th>\n",
       "      <td>eggs,1698742125-28,https://www.migros.ch/de/se...</td>\n",
       "    </tr>\n",
       "  </tbody>\n",
       "</table>\n",
       "</div>"
      ],
      "text/plain": [
       "   product_type,web-scraper-order,web-scraper-start-url,productname_raw,price_raw,pieces_raw,Supermarkt\n",
       "0   eggs,1698755441-1,https://www.aldi-now.ch/de/m...                                                  \n",
       "1   eggs,1698755441-2,https://www.aldi-now.ch/de/m...                                                  \n",
       "2   eggs,1698755441-3,https://www.aldi-now.ch/de/m...                                                  \n",
       "3   eggs,1698755441-4,https://www.aldi-now.ch/de/m...                                                  \n",
       "4   eggs,1698755441-5,https://www.aldi-now.ch/de/m...                                                  \n",
       "5   eggs,1698755441-6,https://www.aldi-now.ch/de/m...                                                  \n",
       "6   eggs,1698742811-1,https://www.coop.ch/de/searc...                                                  \n",
       "7   eggs,1698742811-2,https://www.coop.ch/de/searc...                                                  \n",
       "8   eggs,1698742811-3,https://www.coop.ch/de/searc...                                                  \n",
       "9   eggs,1698742811-4,https://www.coop.ch/de/searc...                                                  \n",
       "10  eggs,1698742811-5,https://www.coop.ch/de/searc...                                                  \n",
       "11  eggs,1698742811-6,https://www.coop.ch/de/searc...                                                  \n",
       "12  eggs,1698742811-7,https://www.coop.ch/de/searc...                                                  \n",
       "13  eggs,1698742811-8,https://www.coop.ch/de/searc...                                                  \n",
       "14  eggs,1698742811-9,https://www.coop.ch/de/searc...                                                  \n",
       "15  eggs,1698742811-10,https://www.coop.ch/de/sear...                                                  \n",
       "16  eggs,1698742811-11,https://www.coop.ch/de/sear...                                                  \n",
       "17  eggs,1698742811-12,https://www.coop.ch/de/sear...                                                  \n",
       "18  eggs,1698742811-13,https://www.coop.ch/de/sear...                                                  \n",
       "19  eggs,1698742811-14,https://www.coop.ch/de/sear...                                                  \n",
       "20  eggs,1698742811-15,https://www.coop.ch/de/sear...                                                  \n",
       "21  eggs,1698742811-16,https://www.coop.ch/de/sear...                                                  \n",
       "22  eggs,1698742125-1,https://www.migros.ch/de/sea...                                                  \n",
       "23  eggs,1698742125-2,https://www.migros.ch/de/sea...                                                  \n",
       "24  eggs,1698742125-3,https://www.migros.ch/de/sea...                                                  \n",
       "25  eggs,1698742125-4,https://www.migros.ch/de/sea...                                                  \n",
       "26  eggs,1698742125-5,https://www.migros.ch/de/sea...                                                  \n",
       "27  eggs,1698742125-6,https://www.migros.ch/de/sea...                                                  \n",
       "28  eggs,1698742125-7,https://www.migros.ch/de/sea...                                                  \n",
       "29  eggs,1698742125-8,https://www.migros.ch/de/sea...                                                  \n",
       "30  eggs,1698742125-9,https://www.migros.ch/de/sea...                                                  \n",
       "31  eggs,1698742125-10,https://www.migros.ch/de/se...                                                  \n",
       "32  eggs,1698742125-11,https://www.migros.ch/de/se...                                                  \n",
       "33  eggs,1698742125-12,https://www.migros.ch/de/se...                                                  \n",
       "34  eggs,1698742125-13,https://www.migros.ch/de/se...                                                  \n",
       "35  eggs,1698742125-14,https://www.migros.ch/de/se...                                                  \n",
       "36  eggs,1698742125-15,https://www.migros.ch/de/se...                                                  \n",
       "37  eggs,1698742125-16,https://www.migros.ch/de/se...                                                  \n",
       "38  eggs,1698742125-17,https://www.migros.ch/de/se...                                                  \n",
       "39  eggs,1698742125-18,https://www.migros.ch/de/se...                                                  \n",
       "40  eggs,1698742125-19,https://www.migros.ch/de/se...                                                  \n",
       "41  eggs,1698742125-20,https://www.migros.ch/de/se...                                                  \n",
       "42  eggs,1698742125-21,https://www.migros.ch/de/se...                                                  \n",
       "43  eggs,1698742125-22,https://www.migros.ch/de/se...                                                  \n",
       "44  eggs,1698742125-23,https://www.migros.ch/de/se...                                                  \n",
       "45  eggs,1698742125-24,https://www.migros.ch/de/se...                                                  \n",
       "46  eggs,1698742125-25,https://www.migros.ch/de/se...                                                  \n",
       "47  eggs,1698742125-26,https://www.migros.ch/de/se...                                                  \n",
       "48  eggs,1698742125-27,https://www.migros.ch/de/se...                                                  \n",
       "49  eggs,1698742125-28,https://www.migros.ch/de/se...                                                  "
      ]
     },
     "execution_count": 17,
     "metadata": {},
     "output_type": "execute_result"
    }
   ],
   "source": [
    "# Show .csv - files in the directory\n",
    "flist = fnmatch.filter(os.listdir('.'), '*.csv')\n",
    "for i in flist:\n",
    "    print(i)\n",
    "\n",
    "# Read the data to a pandas data frame\n",
    "df = pd.read_csv('Egg_merge.csv', sep=',', encoding='utf-8')\n",
    "\n",
    "# Show first records of data frame\n",
    "df.head(50)"
   ]
  },
  {
   "cell_type": "markdown",
   "metadata": {},
   "source": [
    "## Count number of rows and columns in the data frame"
   ]
  },
  {
   "cell_type": "code",
   "execution_count": 18,
   "metadata": {},
   "outputs": [
    {
     "name": "stdout",
     "output_type": "stream",
     "text": [
      "Dimension: (108, 1)\n",
      "Number of rows: 108\n",
      "Number of columns: 1\n"
     ]
    }
   ],
   "source": [
    "# Dimension (rows, columns)\n",
    "print('Dimension:', df.shape)\n",
    "\n",
    "# Number of rows\n",
    "print('Number of rows:', df.shape[0])\n",
    "\n",
    "# Number of columns\n",
    "print('Number of columns:', df.shape[1])"
   ]
  },
  {
   "cell_type": "markdown",
   "metadata": {},
   "source": [
    "## Get data types (raw-format from web scraping)"
   ]
  },
  {
   "cell_type": "code",
   "execution_count": 19,
   "metadata": {},
   "outputs": [
    {
     "data": {
      "text/plain": [
       "product_type,web-scraper-order,web-scraper-start-url,productname_raw,price_raw,pieces_raw,Supermarkt    object\n",
       "dtype: object"
      ]
     },
     "execution_count": 19,
     "metadata": {},
     "output_type": "execute_result"
    }
   ],
   "source": [
    "# Get data types (note that in pandas, a string is referred to as 'object')\n",
    "df.dtypes"
   ]
  },
  {
   "cell_type": "markdown",
   "metadata": {},
   "source": [
    "# Extract total pieces\n"
   ]
  },
  {
   "cell_type": "code",
   "execution_count": null,
   "metadata": {},
   "outputs": [],
   "source": []
  }
 ],
 "metadata": {
  "kernelspec": {
   "display_name": "Python 3",
   "language": "python",
   "name": "python3"
  },
  "language_info": {
   "codemirror_mode": {
    "name": "ipython",
    "version": 3
   },
   "file_extension": ".py",
   "mimetype": "text/x-python",
   "name": "python",
   "nbconvert_exporter": "python",
   "pygments_lexer": "ipython3",
   "version": "3.10.8"
  }
 },
 "nbformat": 4,
 "nbformat_minor": 2
}
