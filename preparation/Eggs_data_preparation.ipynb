{
 "cells": [
  {
   "cell_type": "markdown",
   "metadata": {},
   "source": [
    "# ImportiImporting and preparing rental apartments dataeren"
   ]
  },
  {
   "cell_type": "markdown",
   "metadata": {},
   "source": [
    "## Libraries and settings"
   ]
  },
  {
   "cell_type": "code",
   "execution_count": 57,
   "metadata": {},
   "outputs": [
    {
     "name": "stdout",
     "output_type": "stream",
     "text": [
      "/workspaces/groceries/preparation\n"
     ]
    }
   ],
   "source": [
    "# Libraries\n",
    "import os\n",
    "import re\n",
    "import time\n",
    "import fnmatch\n",
    "import numpy as np\n",
    "import pandas as pd\n",
    "\n",
    "# Ignore warnings\n",
    "import warnings\n",
    "warnings.filterwarnings(\"ignore\")\n",
    "\n",
    "# Get current working directory\n",
    "print(os.getcwd())"
   ]
  },
  {
   "cell_type": "markdown",
   "metadata": {},
   "source": [
    "## CSV Letzte Zeile"
   ]
  },
  {
   "cell_type": "code",
   "execution_count": 58,
   "metadata": {},
   "outputs": [
    {
     "name": "stdout",
     "output_type": "stream",
     "text": [
      "Die Datei ../CSV/prepared/prepared_CSV_Aldi_Eggs.csv existiert bereits.\n",
      "Die Datei ../CSV/prepared/prepared_CSV_Coop_Eggs.csv existiert bereits.\n",
      "Die Datei ../CSV/prepared/prepared_CSV_Migros_Eggs.csv existiert bereits.\n"
     ]
    }
   ],
   "source": [
    "import os\n",
    "import pandas as pd\n",
    "\n",
    "def create_prepared_csv(input_path, output_path, supermarket):\n",
    "    # Überprüfen, ob die Ausgabedatei bereits existiert\n",
    "    if not os.path.exists(output_path):\n",
    "        # DataFrame aus der Eingabedatei erstellen\n",
    "        df = pd.read_csv(input_path, sep=';')\n",
    "        # Neue Spalte \"Supermarkt\" hinzufügen\n",
    "        df['Supermarkt'] = supermarket\n",
    "        # DataFrame in eine neue CSV-Datei schreiben\n",
    "        df.to_csv(output_path, index=False)\n",
    "        print(f\"Die Datei {output_path} wurde erfolgreich erstellt.\")\n",
    "    else:\n",
    "        print(f\"Die Datei {output_path} existiert bereits.\")\n",
    "\n",
    "# Aldi Eggs\n",
    "create_prepared_csv('../CSV/Aldi_Eggs.csv', '../CSV/prepared/prepared_CSV_Aldi_Eggs.csv', 'Aldi')\n",
    "\n",
    "# Coop Eggs\n",
    "create_prepared_csv('../CSV/Coop_Eggs.csv', '../CSV/prepared/prepared_CSV_Coop_Eggs.csv', 'Coop')\n",
    "\n",
    "# Migros Eggs\n",
    "create_prepared_csv('../CSV/Migros_Eggs.csv', '../CSV/prepared/prepared_CSV_Migros_Eggs.csv', 'Migros')\n",
    "\n"
   ]
  },
  {
   "cell_type": "markdown",
   "metadata": {},
   "source": [
    "## Merge Eggs"
   ]
  },
  {
   "cell_type": "code",
   "execution_count": 59,
   "metadata": {},
   "outputs": [],
   "source": [
    "import pandas as pd\n",
    "import os\n",
    "\n",
    "# Liste der Dateipfade\n",
    "Eggs_merge = [\n",
    "    '../CSV/prepared/prepared_CSV_Aldi_Eggs.csv',\n",
    "    '../CSV/prepared/prepared_CSV_Coop_Eggs.csv',\n",
    "    '../CSV/prepared/prepared_CSV_Migros_Eggs.csv'\n",
    "]\n",
    "\n",
    "# Eine leere DataFrame erstellen, um die Daten zu speichern\n",
    "gesamt_df = pd.DataFrame()\n",
    "\n",
    "# Durchlaufen Sie die Liste der Dateipfade und fügen Sie die Daten dem Gesamt-DataFrame hinzu\n",
    "for Egg_merge in Eggs_merge:\n",
    "    df = pd.read_csv(Egg_merge, sep=',', encoding='utf-8')  # Änderung hier: sep=';'\n",
    "    gesamt_df = pd.concat([gesamt_df, df], ignore_index=True)  # Änderung hier: Verwendung von pd.concat\n",
    "\n",
    "# Den Gesamt-DataFrame in eine neue CSV-Datei schreiben\n",
    "gesamt_df.to_csv('Egg_merge.csv', index=False)\n"
   ]
  },
  {
   "cell_type": "markdown",
   "metadata": {},
   "source": [
    "## Importing data"
   ]
  },
  {
   "cell_type": "code",
   "execution_count": 60,
   "metadata": {},
   "outputs": [
    {
     "name": "stdout",
     "output_type": "stream",
     "text": [
      "Egg_merge.csv\n",
      "Flour_merge.csv\n",
      "Butter_merge.csv\n"
     ]
    },
    {
     "data": {
      "text/html": [
       "<div>\n",
       "<style scoped>\n",
       "    .dataframe tbody tr th:only-of-type {\n",
       "        vertical-align: middle;\n",
       "    }\n",
       "\n",
       "    .dataframe tbody tr th {\n",
       "        vertical-align: top;\n",
       "    }\n",
       "\n",
       "    .dataframe thead th {\n",
       "        text-align: right;\n",
       "    }\n",
       "</style>\n",
       "<table border=\"1\" class=\"dataframe\">\n",
       "  <thead>\n",
       "    <tr style=\"text-align: right;\">\n",
       "      <th></th>\n",
       "      <th>product_type</th>\n",
       "      <th>web-scraper-order</th>\n",
       "      <th>web-scraper-start-url</th>\n",
       "      <th>productname_raw</th>\n",
       "      <th>price_raw</th>\n",
       "      <th>pieces_raw</th>\n",
       "      <th>Supermarkt</th>\n",
       "      <th>price_per_piece</th>\n",
       "    </tr>\n",
       "  </thead>\n",
       "  <tbody>\n",
       "    <tr>\n",
       "      <th>0</th>\n",
       "      <td>eggs</td>\n",
       "      <td>1698755441-1</td>\n",
       "      <td>https://www.aldi-now.ch/de/milchprodukte-&amp;-eie...</td>\n",
       "      <td>Eier Bodenhaltung Import, 10er-Pack</td>\n",
       "      <td>2.83</td>\n",
       "      <td>10</td>\n",
       "      <td>Aldi</td>\n",
       "      <td>0.28</td>\n",
       "    </tr>\n",
       "    <tr>\n",
       "      <th>1</th>\n",
       "      <td>eggs</td>\n",
       "      <td>1698755441-2</td>\n",
       "      <td>https://www.aldi-now.ch/de/milchprodukte-&amp;-eie...</td>\n",
       "      <td>Schweizer Eier Bodenhaltung, 10er-Pack</td>\n",
       "      <td>3.95</td>\n",
       "      <td>10</td>\n",
       "      <td>Aldi</td>\n",
       "      <td>0.40</td>\n",
       "    </tr>\n",
       "    <tr>\n",
       "      <th>2</th>\n",
       "      <td>eggs</td>\n",
       "      <td>1698755441-3</td>\n",
       "      <td>https://www.aldi-now.ch/de/milchprodukte-&amp;-eie...</td>\n",
       "      <td>NATURE SUISSE Freilandeier Pic Nic, 6er-Pack</td>\n",
       "      <td>3.49</td>\n",
       "      <td>6</td>\n",
       "      <td>Aldi</td>\n",
       "      <td>0.58</td>\n",
       "    </tr>\n",
       "    <tr>\n",
       "      <th>3</th>\n",
       "      <td>eggs</td>\n",
       "      <td>1698755441-4</td>\n",
       "      <td>https://www.aldi-now.ch/de/milchprodukte-&amp;-eie...</td>\n",
       "      <td>RETOUR AUX SOURCES BIO Pic Nic Freilandeier, 4...</td>\n",
       "      <td>3.95</td>\n",
       "      <td>4</td>\n",
       "      <td>Aldi</td>\n",
       "      <td>0.99</td>\n",
       "    </tr>\n",
       "    <tr>\n",
       "      <th>4</th>\n",
       "      <td>eggs</td>\n",
       "      <td>1698755441-5</td>\n",
       "      <td>https://www.aldi-now.ch/de/milchprodukte-&amp;-eie...</td>\n",
       "      <td>NATURE SUISSE Freilandeier, 6er-Pack</td>\n",
       "      <td>3.19</td>\n",
       "      <td>6</td>\n",
       "      <td>Aldi</td>\n",
       "      <td>0.53</td>\n",
       "    </tr>\n",
       "    <tr>\n",
       "      <th>...</th>\n",
       "      <td>...</td>\n",
       "      <td>...</td>\n",
       "      <td>...</td>\n",
       "      <td>...</td>\n",
       "      <td>...</td>\n",
       "      <td>...</td>\n",
       "      <td>...</td>\n",
       "      <td>...</td>\n",
       "    </tr>\n",
       "    <tr>\n",
       "      <th>95</th>\n",
       "      <td>eggs</td>\n",
       "      <td>1698742125-74</td>\n",
       "      <td>https://www.migros.ch/de/search?query=Eier&amp;fil...</td>\n",
       "      <td>Aargauer Eier 4 x 63g+ IP-SUISSE</td>\n",
       "      <td>2.90</td>\n",
       "      <td>4</td>\n",
       "      <td>Migros</td>\n",
       "      <td>0.72</td>\n",
       "    </tr>\n",
       "    <tr>\n",
       "      <th>96</th>\n",
       "      <td>eggs</td>\n",
       "      <td>1698742125-75</td>\n",
       "      <td>https://www.migros.ch/de/search?query=Eier&amp;fil...</td>\n",
       "      <td>Berner Eier 10 x 63g+ IP-SUISSE</td>\n",
       "      <td>6.90</td>\n",
       "      <td>10</td>\n",
       "      <td>Migros</td>\n",
       "      <td>0.69</td>\n",
       "    </tr>\n",
       "    <tr>\n",
       "      <th>97</th>\n",
       "      <td>eggs</td>\n",
       "      <td>1698742125-76</td>\n",
       "      <td>https://www.migros.ch/de/search?query=Eier&amp;fil...</td>\n",
       "      <td>Aargauer Eier 10 x 63g+ IP Suisse</td>\n",
       "      <td>6.90</td>\n",
       "      <td>10</td>\n",
       "      <td>Migros</td>\n",
       "      <td>0.69</td>\n",
       "    </tr>\n",
       "    <tr>\n",
       "      <th>98</th>\n",
       "      <td>eggs</td>\n",
       "      <td>1698742125-77</td>\n",
       "      <td>https://www.migros.ch/de/search?query=Eier&amp;fil...</td>\n",
       "      <td>Eier Schweiz 10 x 63g IP-SUISSE</td>\n",
       "      <td>6.80</td>\n",
       "      <td>10</td>\n",
       "      <td>Migros</td>\n",
       "      <td>0.68</td>\n",
       "    </tr>\n",
       "    <tr>\n",
       "      <th>99</th>\n",
       "      <td>eggs</td>\n",
       "      <td>1698742125-78</td>\n",
       "      <td>https://www.migros.ch/de/search?query=Eier&amp;fil...</td>\n",
       "      <td>Eier Freilandhaltung 10 x 63g+ IP-SUISSE</td>\n",
       "      <td>6.60</td>\n",
       "      <td>10</td>\n",
       "      <td>Migros</td>\n",
       "      <td>0.66</td>\n",
       "    </tr>\n",
       "  </tbody>\n",
       "</table>\n",
       "<p>100 rows × 8 columns</p>\n",
       "</div>"
      ],
      "text/plain": [
       "   product_type web-scraper-order  \\\n",
       "0          eggs      1698755441-1   \n",
       "1          eggs      1698755441-2   \n",
       "2          eggs      1698755441-3   \n",
       "3          eggs      1698755441-4   \n",
       "4          eggs      1698755441-5   \n",
       "..          ...               ...   \n",
       "95         eggs     1698742125-74   \n",
       "96         eggs     1698742125-75   \n",
       "97         eggs     1698742125-76   \n",
       "98         eggs     1698742125-77   \n",
       "99         eggs     1698742125-78   \n",
       "\n",
       "                                web-scraper-start-url  \\\n",
       "0   https://www.aldi-now.ch/de/milchprodukte-&-eie...   \n",
       "1   https://www.aldi-now.ch/de/milchprodukte-&-eie...   \n",
       "2   https://www.aldi-now.ch/de/milchprodukte-&-eie...   \n",
       "3   https://www.aldi-now.ch/de/milchprodukte-&-eie...   \n",
       "4   https://www.aldi-now.ch/de/milchprodukte-&-eie...   \n",
       "..                                                ...   \n",
       "95  https://www.migros.ch/de/search?query=Eier&fil...   \n",
       "96  https://www.migros.ch/de/search?query=Eier&fil...   \n",
       "97  https://www.migros.ch/de/search?query=Eier&fil...   \n",
       "98  https://www.migros.ch/de/search?query=Eier&fil...   \n",
       "99  https://www.migros.ch/de/search?query=Eier&fil...   \n",
       "\n",
       "                                      productname_raw  price_raw  pieces_raw  \\\n",
       "0                 Eier Bodenhaltung Import, 10er-Pack       2.83          10   \n",
       "1              Schweizer Eier Bodenhaltung, 10er-Pack       3.95          10   \n",
       "2        NATURE SUISSE Freilandeier Pic Nic, 6er-Pack       3.49           6   \n",
       "3   RETOUR AUX SOURCES BIO Pic Nic Freilandeier, 4...       3.95           4   \n",
       "4                NATURE SUISSE Freilandeier, 6er-Pack       3.19           6   \n",
       "..                                                ...        ...         ...   \n",
       "95                   Aargauer Eier 4 x 63g+ IP-SUISSE       2.90           4   \n",
       "96                    Berner Eier 10 x 63g+ IP-SUISSE       6.90          10   \n",
       "97                  Aargauer Eier 10 x 63g+ IP Suisse       6.90          10   \n",
       "98                    Eier Schweiz 10 x 63g IP-SUISSE       6.80          10   \n",
       "99           Eier Freilandhaltung 10 x 63g+ IP-SUISSE       6.60          10   \n",
       "\n",
       "   Supermarkt  price_per_piece  \n",
       "0        Aldi             0.28  \n",
       "1        Aldi             0.40  \n",
       "2        Aldi             0.58  \n",
       "3        Aldi             0.99  \n",
       "4        Aldi             0.53  \n",
       "..        ...              ...  \n",
       "95     Migros             0.72  \n",
       "96     Migros             0.69  \n",
       "97     Migros             0.69  \n",
       "98     Migros             0.68  \n",
       "99     Migros             0.66  \n",
       "\n",
       "[100 rows x 8 columns]"
      ]
     },
     "execution_count": 60,
     "metadata": {},
     "output_type": "execute_result"
    }
   ],
   "source": [
    "# Show .csv - files in the directory\n",
    "flist = fnmatch.filter(os.listdir('.'), '*.csv')\n",
    "for i in flist:\n",
    "    print(i)\n",
    "\n",
    "# Read the data to a pandas data frame\n",
    "df = pd.read_csv('Egg_merge.csv', sep=',', encoding='utf-8')\n",
    "\n",
    "# Convert the 'price_raw' and 'piece' columns to numeric values\n",
    "df['price_raw'] = pd.to_numeric(df['price_raw'], errors='coerce')\n",
    "df['pieces_raw'] = pd.to_numeric(df['pieces_raw'], errors='coerce')\n",
    "\n",
    "# Calculate the price per piece and round to 2 decimal places\n",
    "df['price_per_piece'] = (df['price_raw'] / df['pieces_raw']).round(2)\n",
    "\n",
    "\n",
    "# Show first records of data frame\n",
    "df.head(100)"
   ]
  },
  {
   "cell_type": "markdown",
   "metadata": {},
   "source": [
    "## Count number of rows and columns in the data frame"
   ]
  },
  {
   "cell_type": "code",
   "execution_count": 61,
   "metadata": {},
   "outputs": [
    {
     "name": "stdout",
     "output_type": "stream",
     "text": [
      "Dimension: (108, 8)\n",
      "Number of rows: 108\n",
      "Number of columns: 8\n"
     ]
    }
   ],
   "source": [
    "# Dimension (rows, columns)\n",
    "print('Dimension:', df.shape)\n",
    "\n",
    "# Number of rows\n",
    "print('Number of rows:', df.shape[0])\n",
    "\n",
    "# Number of columns\n",
    "print('Number of columns:', df.shape[1])"
   ]
  },
  {
   "cell_type": "markdown",
   "metadata": {},
   "source": [
    "## Get data types (raw-format from web scraping)"
   ]
  },
  {
   "cell_type": "code",
   "execution_count": 62,
   "metadata": {},
   "outputs": [
    {
     "data": {
      "text/plain": [
       "product_type              object\n",
       "web-scraper-order         object\n",
       "web-scraper-start-url     object\n",
       "productname_raw           object\n",
       "price_raw                float64\n",
       "pieces_raw                 int64\n",
       "Supermarkt                object\n",
       "price_per_piece          float64\n",
       "dtype: object"
      ]
     },
     "execution_count": 62,
     "metadata": {},
     "output_type": "execute_result"
    }
   ],
   "source": [
    "# Get data types (note that in pandas, a string is referred to as 'object')\n",
    "df.dtypes"
   ]
  },
  {
   "cell_type": "markdown",
   "metadata": {},
   "source": [
    "# Extract total pieces\n"
   ]
  },
  {
   "cell_type": "code",
   "execution_count": 63,
   "metadata": {},
   "outputs": [
    {
     "name": "stdout",
     "output_type": "stream",
     "text": [
      "0      10\n",
      "1      10\n",
      "2       6\n",
      "3       4\n",
      "4       6\n",
      "       ..\n",
      "103    12\n",
      "104     8\n",
      "105     4\n",
      "106     6\n",
      "107     6\n",
      "Name: pieces_raw, Length: 108, dtype: int64\n"
     ]
    }
   ],
   "source": [
    "import pandas as pd\n",
    "\n",
    "# Annahme: Die Daten sind im DataFrame df gespeichert\n",
    "# df = pd.read_csv('Butter_merge.csv', sep=',', encoding='utf-8')\n",
    "\n",
    "# Zeige nur die Werte in der Spalte 'weight_raw' an\n",
    "pieces_raw = df['pieces_raw']\n",
    "\n",
    "# Zeige die Werte an\n",
    "print(pieces_raw)\n"
   ]
  }
 ],
 "metadata": {
  "kernelspec": {
   "display_name": "Python 3",
   "language": "python",
   "name": "python3"
  },
  "language_info": {
   "codemirror_mode": {
    "name": "ipython",
    "version": 3
   },
   "file_extension": ".py",
   "mimetype": "text/x-python",
   "name": "python",
   "nbconvert_exporter": "python",
   "pygments_lexer": "ipython3",
   "version": "3.10.8"
  }
 },
 "nbformat": 4,
 "nbformat_minor": 2
}
