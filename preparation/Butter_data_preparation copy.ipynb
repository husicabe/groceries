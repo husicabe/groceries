{
 "cells": [
  {
   "cell_type": "markdown",
   "metadata": {},
   "source": [
    "# ImportiImporting and preparing rental apartments dataeren"
   ]
  },
  {
   "cell_type": "markdown",
   "metadata": {},
   "source": [
    "## Libraries and settings"
   ]
  },
  {
   "cell_type": "code",
   "execution_count": 25,
   "metadata": {},
   "outputs": [
    {
     "name": "stdout",
     "output_type": "stream",
     "text": [
      "/workspaces/groceries/preparation\n"
     ]
    }
   ],
   "source": [
    "# Libraries\n",
    "import os\n",
    "import re\n",
    "import time\n",
    "import fnmatch\n",
    "import numpy as np\n",
    "import pandas as pd\n",
    "\n",
    "# Ignore warnings\n",
    "import warnings\n",
    "warnings.filterwarnings(\"ignore\")\n",
    "\n",
    "# Get current working directory\n",
    "print(os.getcwd())"
   ]
  },
  {
   "cell_type": "markdown",
   "metadata": {},
   "source": [
    "## CSV Letzte Zeile"
   ]
  },
  {
   "cell_type": "code",
   "execution_count": 26,
   "metadata": {},
   "outputs": [
    {
     "name": "stdout",
     "output_type": "stream",
     "text": [
      "Fehler beim Einlesen der Datei ../CSV/Aldi_Butter.csv: Error tokenizing data. C error: Expected 1 fields in line 4, saw 2\n",
      "\n",
      "Einige Dateien konnten nicht verarbeitet werden.\n"
     ]
    }
   ],
   "source": [
    "import pandas as pd\n",
    "import os\n",
    "\n",
    "# Funktion zum Einlesen und Modifizieren einer CSV-Datei\n",
    "def read_and_modify_csv(file_path):\n",
    "    try:\n",
    "        # Einlesen der CSV-Datei\n",
    "        df = pd.read_csv(file_path, sep=',', encoding='utf-8')\n",
    "\n",
    "        # Hier können Sie weitere Modifikationen vornehmen, z.B.:\n",
    "        # df['neue_spalte'] = df['bestehende_spalte'].apply(eine_funktion)\n",
    "\n",
    "        return df\n",
    "    except FileNotFoundError:\n",
    "        print(f\"Datei nicht gefunden: {file_path}\")\n",
    "        return None\n",
    "    except pd.errors.ParserError as e:\n",
    "        print(f\"Fehler beim Einlesen der Datei {file_path}: {e}\")\n",
    "        return None\n",
    "\n",
    "# Pfade zu den CSV-Dateien\n",
    "file_paths = ['../CSV/Aldi_Butter.csv', '../CSV/Coop_Butter.csv', '../CSV/Migros_Butter.csv']\n",
    "\n",
    "# Einlesen und Modifizieren der CSV-Dateien\n",
    "dataframes = [read_and_modify_csv(file) for file in file_paths]\n",
    "\n",
    "# Entfernen von None-Werten aus der Liste (falls Dateien nicht gefunden wurden)\n",
    "dataframes = [df for df in dataframes if df is not None]\n",
    "\n",
    "# Überprüfen, ob alle Dateien eingelesen wurden\n",
    "if len(dataframes) == len(file_paths):\n",
    "    # Zusammenführen der Daten aus allen Supermärkten in einen einzigen DataFrame\n",
    "    gesamt_df = pd.concat(dataframes, ignore_index=True)\n",
    "\n",
    "    # Speichern des zusammengeführten DataFrames in der Datei 'Butter_merge.csv'\n",
    "    gesamt_df.to_csv('Butter_merge.csv', index=False)\n",
    "\n",
    "    print(\"Zusammengeführte Datei 'Butter_merge.csv' wurde erfolgreich erstellt.\")\n",
    "else:\n",
    "    print(\"Einige Dateien konnten nicht verarbeitet werden.\")\n"
   ]
  }
 ],
 "metadata": {
  "kernelspec": {
   "display_name": "Python 3",
   "language": "python",
   "name": "python3"
  },
  "language_info": {
   "codemirror_mode": {
    "name": "ipython",
    "version": 3
   },
   "file_extension": ".py",
   "mimetype": "text/x-python",
   "name": "python",
   "nbconvert_exporter": "python",
   "pygments_lexer": "ipython3",
   "version": "3.10.8"
  }
 },
 "nbformat": 4,
 "nbformat_minor": 2
}
